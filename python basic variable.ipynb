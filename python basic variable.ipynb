{
 "cells": [
  {
   "cell_type": "code",
   "execution_count": 1,
   "id": "efac3671-0cc6-46af-8216-baf52fa70eca",
   "metadata": {},
   "outputs": [
    {
     "data": {
      "text/plain": [
       "3"
      ]
     },
     "execution_count": 1,
     "metadata": {},
     "output_type": "execute_result"
    }
   ],
   "source": [
    "1+2\n"
   ]
  },
  {
   "cell_type": "code",
   "execution_count": 2,
   "id": "f3ad86ce-e39c-4d47-be0b-c9189e7ed959",
   "metadata": {},
   "outputs": [
    {
     "data": {
      "text/plain": [
       "9797"
      ]
     },
     "execution_count": 2,
     "metadata": {},
     "output_type": "execute_result"
    }
   ],
   "source": [
    "6582+3215\n"
   ]
  },
  {
   "cell_type": "code",
   "execution_count": 5,
   "id": "2542ad1c-824b-4742-962f-3213ba2be837",
   "metadata": {},
   "outputs": [
    {
     "data": {
      "text/plain": [
       "11085"
      ]
     },
     "execution_count": 5,
     "metadata": {},
     "output_type": "execute_result"
    }
   ],
   "source": [
    "6523+4562"
   ]
  },
  {
   "cell_type": "code",
   "execution_count": 6,
   "id": "5d41148d-0622-4f13-b9c5-1d527510cef2",
   "metadata": {},
   "outputs": [],
   "source": [
    "a=10\n"
   ]
  },
  {
   "cell_type": "code",
   "execution_count": 7,
   "id": "c22d0841-23c2-4e68-acd3-611844fed9eb",
   "metadata": {},
   "outputs": [
    {
     "data": {
      "text/plain": [
       "10"
      ]
     },
     "execution_count": 7,
     "metadata": {},
     "output_type": "execute_result"
    }
   ],
   "source": [
    "a\n"
   ]
  },
  {
   "cell_type": "code",
   "execution_count": 8,
   "id": "a8e6474c-5a48-416f-942c-2251e927e0db",
   "metadata": {},
   "outputs": [],
   "source": [
    "b=50\n"
   ]
  },
  {
   "cell_type": "code",
   "execution_count": 9,
   "id": "5e9b4f7f-0a5c-4a25-8d7e-cdd68ef31a37",
   "metadata": {},
   "outputs": [
    {
     "data": {
      "text/plain": [
       "60"
      ]
     },
     "execution_count": 9,
     "metadata": {},
     "output_type": "execute_result"
    }
   ],
   "source": [
    "a+b"
   ]
  },
  {
   "cell_type": "code",
   "execution_count": 10,
   "id": "436dba09-be6b-49df-869f-5d1bb7dc2055",
   "metadata": {},
   "outputs": [],
   "source": [
    "sudh =6524623462"
   ]
  },
  {
   "cell_type": "code",
   "execution_count": 11,
   "id": "3a2f57a9-b0a4-4159-8d40-cd2297b8a631",
   "metadata": {},
   "outputs": [
    {
     "data": {
      "text/plain": [
       "int"
      ]
     },
     "execution_count": 11,
     "metadata": {},
     "output_type": "execute_result"
    }
   ],
   "source": [
    "type(sudh)"
   ]
  },
  {
   "cell_type": "code",
   "execution_count": 12,
   "id": "4c43284b-4ffb-437f-a12d-d0e67072daaf",
   "metadata": {},
   "outputs": [],
   "source": [
    "name =\"Shobhit\""
   ]
  },
  {
   "cell_type": "code",
   "execution_count": 13,
   "id": "a064dc6f-45cd-40ea-8e73-dbee1055ca40",
   "metadata": {},
   "outputs": [
    {
     "data": {
      "text/plain": [
       "str"
      ]
     },
     "execution_count": 13,
     "metadata": {},
     "output_type": "execute_result"
    }
   ],
   "source": [
    "type(name)"
   ]
  },
  {
   "cell_type": "code",
   "execution_count": 14,
   "id": "451d1fbb-5483-4835-9323-562ae6bb29fb",
   "metadata": {},
   "outputs": [],
   "source": [
    "c=12.0215"
   ]
  },
  {
   "cell_type": "code",
   "execution_count": 15,
   "id": "1546eb08-4849-4c44-b933-6518d18d3bc4",
   "metadata": {},
   "outputs": [
    {
     "data": {
      "text/plain": [
       "float"
      ]
     },
     "execution_count": 15,
     "metadata": {},
     "output_type": "execute_result"
    }
   ],
   "source": [
    "type(c)"
   ]
  },
  {
   "cell_type": "code",
   "execution_count": 16,
   "id": "da5575e2-45be-4533-930c-3bffd985cb3b",
   "metadata": {},
   "outputs": [],
   "source": [
    "s=\"pwskills\"\n"
   ]
  },
  {
   "cell_type": "code",
   "execution_count": 17,
   "id": "96805415-0944-4ca0-89b4-16f5d1620fb9",
   "metadata": {},
   "outputs": [
    {
     "data": {
      "text/plain": [
       "str"
      ]
     },
     "execution_count": 17,
     "metadata": {},
     "output_type": "execute_result"
    }
   ],
   "source": [
    "type(s)"
   ]
  },
  {
   "cell_type": "code",
   "execution_count": 19,
   "id": "4567409e-35bc-4804-8355-db59f8a433e0",
   "metadata": {},
   "outputs": [],
   "source": [
    "s1 ='my first python lecture'\n"
   ]
  },
  {
   "cell_type": "code",
   "execution_count": 20,
   "id": "a82ce63a-9d7b-475a-a925-4a2ecb92ab92",
   "metadata": {},
   "outputs": [
    {
     "data": {
      "text/plain": [
       "str"
      ]
     },
     "execution_count": 20,
     "metadata": {},
     "output_type": "execute_result"
    }
   ],
   "source": [
    "type(s1)"
   ]
  },
  {
   "cell_type": "code",
   "execution_count": 21,
   "id": "1e0b2711-f9dd-4c7a-ba9d-b4fa79a3b77f",
   "metadata": {},
   "outputs": [],
   "source": [
    "f=456.2546"
   ]
  },
  {
   "cell_type": "code",
   "execution_count": 22,
   "id": "51d4b715-b022-4ce1-b358-c56c53e0f276",
   "metadata": {},
   "outputs": [
    {
     "data": {
      "text/plain": [
       "float"
      ]
     },
     "execution_count": 22,
     "metadata": {},
     "output_type": "execute_result"
    }
   ],
   "source": [
    "type(f)"
   ]
  },
  {
   "cell_type": "code",
   "execution_count": 23,
   "id": "996584ef-1124-4a96-8a09-28b9602bfac1",
   "metadata": {},
   "outputs": [],
   "source": [
    "c = 5+6j"
   ]
  },
  {
   "cell_type": "code",
   "execution_count": 24,
   "id": "bcf13c1c-ab95-48f7-9fd2-2b455d37143c",
   "metadata": {},
   "outputs": [
    {
     "data": {
      "text/plain": [
       "complex"
      ]
     },
     "execution_count": 24,
     "metadata": {},
     "output_type": "execute_result"
    }
   ],
   "source": [
    "type(c)"
   ]
  },
  {
   "cell_type": "code",
   "execution_count": 25,
   "id": "5e51065b-cb50-4c66-8e24-2e8dde03f53d",
   "metadata": {},
   "outputs": [
    {
     "data": {
      "text/plain": [
       "5.0"
      ]
     },
     "execution_count": 25,
     "metadata": {},
     "output_type": "execute_result"
    }
   ],
   "source": [
    "c.real"
   ]
  },
  {
   "cell_type": "code",
   "execution_count": 26,
   "id": "e07a1f84-63eb-4a0e-ad0a-0003f93a63ad",
   "metadata": {},
   "outputs": [
    {
     "data": {
      "text/plain": [
       "6.0"
      ]
     },
     "execution_count": 26,
     "metadata": {},
     "output_type": "execute_result"
    }
   ],
   "source": [
    "c.imag"
   ]
  },
  {
   "cell_type": "code",
   "execution_count": 27,
   "id": "467fabb2-eab4-4449-9322-2ec76fe869d9",
   "metadata": {},
   "outputs": [],
   "source": [
    "b = True "
   ]
  },
  {
   "cell_type": "code",
   "execution_count": 28,
   "id": "4fff88f3-ddd6-4826-9897-07bc8350f507",
   "metadata": {},
   "outputs": [
    {
     "data": {
      "text/plain": [
       "bool"
      ]
     },
     "execution_count": 28,
     "metadata": {},
     "output_type": "execute_result"
    }
   ],
   "source": [
    "type(b)"
   ]
  },
  {
   "cell_type": "code",
   "execution_count": 29,
   "id": "03ad84c0-ef48-467c-885e-23c4ea5ee974",
   "metadata": {},
   "outputs": [],
   "source": [
    "b1 = (False)\n"
   ]
  },
  {
   "cell_type": "code",
   "execution_count": 30,
   "id": "4df2c14a-f441-425b-a809-69e713dfe1c2",
   "metadata": {},
   "outputs": [
    {
     "data": {
      "text/plain": [
       "bool"
      ]
     },
     "execution_count": 30,
     "metadata": {},
     "output_type": "execute_result"
    }
   ],
   "source": [
    "type(b1)"
   ]
  },
  {
   "cell_type": "code",
   "execution_count": 31,
   "id": "f5b491e1-5043-4901-9358-8bbc2a8fa508",
   "metadata": {},
   "outputs": [],
   "source": [
    "a1=35\n",
    "a2=34"
   ]
  },
  {
   "cell_type": "code",
   "execution_count": 32,
   "id": "fe461523-db40-451a-b932-69a14460f3b2",
   "metadata": {},
   "outputs": [
    {
     "data": {
      "text/plain": [
       "69"
      ]
     },
     "execution_count": 32,
     "metadata": {},
     "output_type": "execute_result"
    }
   ],
   "source": [
    "a1+a2"
   ]
  },
  {
   "cell_type": "code",
   "execution_count": 33,
   "id": "d03ebf6a-4aec-4826-874e-a7e1117d66c6",
   "metadata": {},
   "outputs": [
    {
     "data": {
      "text/plain": [
       "1190"
      ]
     },
     "execution_count": 33,
     "metadata": {},
     "output_type": "execute_result"
    }
   ],
   "source": [
    "a1*a2"
   ]
  },
  {
   "cell_type": "code",
   "execution_count": 34,
   "id": "0ce9367b-3f47-43c6-8d13-d884af7bf22a",
   "metadata": {},
   "outputs": [
    {
     "data": {
      "text/plain": [
       "1"
      ]
     },
     "execution_count": 34,
     "metadata": {},
     "output_type": "execute_result"
    }
   ],
   "source": [
    "a1-a2"
   ]
  },
  {
   "cell_type": "code",
   "execution_count": 35,
   "id": "a1c7cc26-e4c1-47a4-8797-6b63fecfd9b0",
   "metadata": {},
   "outputs": [
    {
     "data": {
      "text/plain": [
       "1.3235294117647058"
      ]
     },
     "execution_count": 35,
     "metadata": {},
     "output_type": "execute_result"
    }
   ],
   "source": [
    "45/34"
   ]
  },
  {
   "cell_type": "code",
   "execution_count": 36,
   "id": "c4d8d9ce-8cd2-4394-9f8c-690190e6aa31",
   "metadata": {},
   "outputs": [
    {
     "data": {
      "text/plain": [
       "1.0294117647058822"
      ]
     },
     "execution_count": 36,
     "metadata": {},
     "output_type": "execute_result"
    }
   ],
   "source": [
    "a1/a2"
   ]
  },
  {
   "cell_type": "code",
   "execution_count": 37,
   "id": "bd9fb6a4-f004-4b8f-b88b-cfa0f59594d2",
   "metadata": {},
   "outputs": [],
   "source": [
    "b1,b2=24,35"
   ]
  },
  {
   "cell_type": "code",
   "execution_count": 38,
   "id": "831e0fc9-4a9a-4590-b632-1dec9bfc4f1d",
   "metadata": {},
   "outputs": [
    {
     "data": {
      "text/plain": [
       "True"
      ]
     },
     "execution_count": 38,
     "metadata": {},
     "output_type": "execute_result"
    }
   ],
   "source": [
    "b"
   ]
  },
  {
   "cell_type": "code",
   "execution_count": 39,
   "id": "93cebe21-2139-4b19-b100-912d8a566e7f",
   "metadata": {},
   "outputs": [
    {
     "data": {
      "text/plain": [
       "24"
      ]
     },
     "execution_count": 39,
     "metadata": {},
     "output_type": "execute_result"
    }
   ],
   "source": [
    "b1"
   ]
  },
  {
   "cell_type": "code",
   "execution_count": 40,
   "id": "35f9f052-bd10-43ad-9b45-a7f51740108d",
   "metadata": {},
   "outputs": [
    {
     "data": {
      "text/plain": [
       "35"
      ]
     },
     "execution_count": 40,
     "metadata": {},
     "output_type": "execute_result"
    }
   ],
   "source": [
    "b2"
   ]
  },
  {
   "cell_type": "code",
   "execution_count": 41,
   "id": "6e866582-8845-47a5-b7d1-451b5d8879b9",
   "metadata": {},
   "outputs": [],
   "source": [
    "a,b,c,d=245,\"Shobhit\",450.245,True"
   ]
  },
  {
   "cell_type": "code",
   "execution_count": 42,
   "id": "6f85674d-a504-4b32-9c0c-8e4b8dd87c9d",
   "metadata": {},
   "outputs": [
    {
     "data": {
      "text/plain": [
       "245"
      ]
     },
     "execution_count": 42,
     "metadata": {},
     "output_type": "execute_result"
    }
   ],
   "source": [
    "a"
   ]
  },
  {
   "cell_type": "code",
   "execution_count": 43,
   "id": "b775238e-9d59-4e52-b370-e4084a544f5f",
   "metadata": {},
   "outputs": [
    {
     "data": {
      "text/plain": [
       "'Shobhit'"
      ]
     },
     "execution_count": 43,
     "metadata": {},
     "output_type": "execute_result"
    }
   ],
   "source": [
    "b"
   ]
  },
  {
   "cell_type": "code",
   "execution_count": 44,
   "id": "3f933b4a-1f81-4e14-818a-160e4dc42528",
   "metadata": {},
   "outputs": [
    {
     "data": {
      "text/plain": [
       "450.245"
      ]
     },
     "execution_count": 44,
     "metadata": {},
     "output_type": "execute_result"
    }
   ],
   "source": [
    "c"
   ]
  },
  {
   "cell_type": "code",
   "execution_count": 45,
   "id": "aaf7a06f-7868-4231-9f8f-27042f27c2fe",
   "metadata": {},
   "outputs": [
    {
     "data": {
      "text/plain": [
       "True"
      ]
     },
     "execution_count": 45,
     "metadata": {},
     "output_type": "execute_result"
    }
   ],
   "source": [
    "d"
   ]
  },
  {
   "cell_type": "code",
   "execution_count": 46,
   "id": "948d6686-7b9b-4b64-8401-a69dd28d4cd9",
   "metadata": {},
   "outputs": [
    {
     "name": "stderr",
     "output_type": "stream",
     "text": [
      "UsageError: Line magic function `%a=` not found.\n"
     ]
    }
   ],
   "source": [
    "%a= 234\n"
   ]
  },
  {
   "cell_type": "code",
   "execution_count": 47,
   "id": "00c22893-cce2-4fbf-8add-79b161e15117",
   "metadata": {},
   "outputs": [
    {
     "ename": "SyntaxError",
     "evalue": "invalid binary literal (3982800640.py, line 1)",
     "output_type": "error",
     "traceback": [
      "\u001b[0;36m  Cell \u001b[0;32mIn[47], line 1\u001b[0;36m\u001b[0m\n\u001b[0;31m    0b=654\u001b[0m\n\u001b[0m     ^\u001b[0m\n\u001b[0;31mSyntaxError\u001b[0m\u001b[0;31m:\u001b[0m invalid binary literal\n"
     ]
    }
   ],
   "source": [
    "0b=654"
   ]
  },
  {
   "cell_type": "code",
   "execution_count": 48,
   "id": "059ff752-73b7-4ba5-85d5-1541a3a03a5f",
   "metadata": {},
   "outputs": [],
   "source": [
    "b0=546"
   ]
  },
  {
   "cell_type": "code",
   "execution_count": 49,
   "id": "cc91415b-7ac7-4b32-a3d5-209bda0c3e0c",
   "metadata": {},
   "outputs": [
    {
     "data": {
      "text/plain": [
       "546"
      ]
     },
     "execution_count": 49,
     "metadata": {},
     "output_type": "execute_result"
    }
   ],
   "source": [
    "b0"
   ]
  },
  {
   "cell_type": "code",
   "execution_count": 50,
   "id": "c8f8b3a2-d69e-441c-a59f-64200e847cec",
   "metadata": {},
   "outputs": [
    {
     "ename": "SyntaxError",
     "evalue": "invalid syntax. Maybe you meant '==' or ':=' instead of '='? (3782158211.py, line 1)",
     "output_type": "error",
     "traceback": [
      "\u001b[0;36m  Cell \u001b[0;32mIn[50], line 1\u001b[0;36m\u001b[0m\n\u001b[0;31m    @b=545\u001b[0m\n\u001b[0m     ^\u001b[0m\n\u001b[0;31mSyntaxError\u001b[0m\u001b[0;31m:\u001b[0m invalid syntax. Maybe you meant '==' or ':=' instead of '='?\n"
     ]
    }
   ],
   "source": [
    "@b=545"
   ]
  },
  {
   "cell_type": "code",
   "execution_count": 51,
   "id": "ecf12c17-681a-47e3-9623-565440ae8c8a",
   "metadata": {},
   "outputs": [
    {
     "ename": "SyntaxError",
     "evalue": "cannot assign to True (3093263138.py, line 1)",
     "output_type": "error",
     "traceback": [
      "\u001b[0;36m  Cell \u001b[0;32mIn[51], line 1\u001b[0;36m\u001b[0m\n\u001b[0;31m    True = 45\u001b[0m\n\u001b[0m    ^\u001b[0m\n\u001b[0;31mSyntaxError\u001b[0m\u001b[0;31m:\u001b[0m cannot assign to True\n"
     ]
    }
   ],
   "source": [
    "True = 45"
   ]
  },
  {
   "cell_type": "code",
   "execution_count": 1,
   "id": "902b66c9-c644-429a-a45b-d4f3cd492471",
   "metadata": {},
   "outputs": [],
   "source": [
    "g = 456"
   ]
  },
  {
   "cell_type": "code",
   "execution_count": 55,
   "id": "b024a764-89e6-4934-a582-6094f7cbc616",
   "metadata": {},
   "outputs": [
    {
     "data": {
      "text/plain": [
       "int"
      ]
     },
     "execution_count": 55,
     "metadata": {},
     "output_type": "execute_result"
    }
   ],
   "source": [
    "type(int)"
   ]
  },
  {
   "cell_type": "code",
   "execution_count": 56,
   "id": "73eaba94-52f9-460b-b6ff-027d02e97fe1",
   "metadata": {},
   "outputs": [
    {
     "data": {
      "text/plain": [
       "456"
      ]
     },
     "execution_count": 56,
     "metadata": {},
     "output_type": "execute_result"
    }
   ],
   "source": [
    "int"
   ]
  },
  {
   "cell_type": "code",
   "execution_count": 57,
   "id": "72622901-f1aa-4957-be35-b43498bf2b6c",
   "metadata": {},
   "outputs": [],
   "source": [
    "b1=True\n"
   ]
  },
  {
   "cell_type": "code",
   "execution_count": 58,
   "id": "0bd958c4-8fc9-4f0d-9342-f1cc5e831425",
   "metadata": {},
   "outputs": [],
   "source": [
    "b2=False"
   ]
  },
  {
   "cell_type": "code",
   "execution_count": 59,
   "id": "e30c2e99-eda1-4647-af2c-c94f19752a06",
   "metadata": {},
   "outputs": [
    {
     "data": {
      "text/plain": [
       "1"
      ]
     },
     "execution_count": 59,
     "metadata": {},
     "output_type": "execute_result"
    }
   ],
   "source": [
    "b1-b2"
   ]
  },
  {
   "cell_type": "code",
   "execution_count": 60,
   "id": "e9f10f44-6aa2-409e-8eac-058417a7e46d",
   "metadata": {},
   "outputs": [
    {
     "data": {
      "text/plain": [
       "-1"
      ]
     },
     "execution_count": 60,
     "metadata": {},
     "output_type": "execute_result"
    }
   ],
   "source": [
    "b2-b1"
   ]
  },
  {
   "cell_type": "markdown",
   "id": "2711cffb-fc62-4469-aeae-0a11841f805b",
   "metadata": {},
   "source": [
    "# b1/b2"
   ]
  },
  {
   "cell_type": "code",
   "execution_count": 62,
   "id": "3daadf7f-f274-403f-9747-282d35f3b594",
   "metadata": {},
   "outputs": [],
   "source": [
    "s1='my name is shobhit'"
   ]
  },
  {
   "cell_type": "code",
   "execution_count": 63,
   "id": "c7e5792e-1995-4d2c-8466-d571588315ee",
   "metadata": {},
   "outputs": [
    {
     "data": {
      "text/plain": [
       "str"
      ]
     },
     "execution_count": 63,
     "metadata": {},
     "output_type": "execute_result"
    }
   ],
   "source": [
    "type(s1)"
   ]
  },
  {
   "cell_type": "code",
   "execution_count": 69,
   "id": "01d799c9-38c8-4f7a-841d-018b63a62a30",
   "metadata": {},
   "outputs": [],
   "source": [
    "#this is my code to create string variable\n",
    "s2=\"this my first pyhton class for data master's\""
   ]
  },
  {
   "cell_type": "markdown",
   "id": "bcfbf8d7-eaf4-4ec1-a9ef-d5531a0ddb4a",
   "metadata": {},
   "source": [
    "s2"
   ]
  },
  {
   "cell_type": "code",
   "execution_count": 68,
   "id": "d7c94d0e-5b02-43a0-843b-7cffe5faed28",
   "metadata": {},
   "outputs": [
    {
     "data": {
      "text/plain": [
       "\"this my first pyhton class for data master's\""
      ]
     },
     "execution_count": 68,
     "metadata": {},
     "output_type": "execute_result"
    }
   ],
   "source": [
    "s2"
   ]
  },
  {
   "cell_type": "code",
   "execution_count": 70,
   "id": "784fa937-adba-4494-8de7-5336fb46cb89",
   "metadata": {},
   "outputs": [
    {
     "data": {
      "text/plain": [
       "'this is my python class \\ni am trying to learn variable declaration\\nso far i have learnt int,string,boolean,complex,float'"
      ]
     },
     "execution_count": 70,
     "metadata": {},
     "output_type": "execute_result"
    }
   ],
   "source": [
    "\"\"\"this is my python class \n",
    "i am trying to learn variable declaration\n",
    "so far i have learnt int,string,boolean,complex,float\"\"\"\n"
   ]
  },
  {
   "cell_type": "code",
   "execution_count": 71,
   "id": "ecaa0f48-29bb-4333-95e8-cc9d07263369",
   "metadata": {},
   "outputs": [],
   "source": [
    "s1=\"Sudh\"\n",
    "a=10\n"
   ]
  },
  {
   "cell_type": "code",
   "execution_count": 76,
   "id": "734fd6f6-5b81-49c3-bc30-0c5728571999",
   "metadata": {},
   "outputs": [
    {
     "data": {
      "text/plain": [
       "'Sudh10'"
      ]
     },
     "execution_count": 76,
     "metadata": {},
     "output_type": "execute_result"
    }
   ],
   "source": [
    "s1+str(a)"
   ]
  },
  {
   "cell_type": "code",
   "execution_count": 73,
   "id": "bbaaf907-e318-4ad2-a880-83dcb8c1c7cc",
   "metadata": {},
   "outputs": [
    {
     "data": {
      "text/plain": [
       "'SudhKumar'"
      ]
     },
     "execution_count": 73,
     "metadata": {},
     "output_type": "execute_result"
    }
   ],
   "source": [
    "'Sudh'+'Kumar'"
   ]
  },
  {
   "cell_type": "code",
   "execution_count": 74,
   "id": "3857adde-0c51-42ed-8fac-14d8cf8b9543",
   "metadata": {},
   "outputs": [
    {
     "data": {
      "text/plain": [
       "10"
      ]
     },
     "execution_count": 74,
     "metadata": {},
     "output_type": "execute_result"
    }
   ],
   "source": [
    "a"
   ]
  },
  {
   "cell_type": "code",
   "execution_count": 4,
   "id": "0339375b-8fc3-4974-b56d-adf259469240",
   "metadata": {},
   "outputs": [
    {
     "ename": "NameError",
     "evalue": "name 'a' is not defined",
     "output_type": "error",
     "traceback": [
      "\u001b[0;31m---------------------------------------------------------------------------\u001b[0m",
      "\u001b[0;31mNameError\u001b[0m                                 Traceback (most recent call last)",
      "Cell \u001b[0;32mIn[4], line 1\u001b[0m\n\u001b[0;32m----> 1\u001b[0m b \u001b[38;5;241m=\u001b[39m \u001b[38;5;28mstr\u001b[39m(\u001b[43ma\u001b[49m)\n",
      "\u001b[0;31mNameError\u001b[0m: name 'a' is not defined"
     ]
    }
   ],
   "source": [
    "b = str(a)"
   ]
  },
  {
   "cell_type": "code",
   "execution_count": 2,
   "id": "fa8662ea-47fb-4af3-a4c3-f8f29a9d5af6",
   "metadata": {},
   "outputs": [
    {
     "ename": "NameError",
     "evalue": "name 'b' is not defined",
     "output_type": "error",
     "traceback": [
      "\u001b[0;31m---------------------------------------------------------------------------\u001b[0m",
      "\u001b[0;31mNameError\u001b[0m                                 Traceback (most recent call last)",
      "Cell \u001b[0;32mIn[2], line 1\u001b[0m\n\u001b[0;32m----> 1\u001b[0m \u001b[38;5;28mint\u001b[39m(\u001b[43mb\u001b[49m)\n",
      "\u001b[0;31mNameError\u001b[0m: name 'b' is not defined"
     ]
    }
   ],
   "source": [
    "int(b)"
   ]
  },
  {
   "cell_type": "code",
   "execution_count": 5,
   "id": "5af1b4bc-fde3-434b-8149-92f7bfe75576",
   "metadata": {},
   "outputs": [],
   "source": [
    "a=443166\n"
   ]
  },
  {
   "cell_type": "code",
   "execution_count": 3,
   "id": "5cd8beb9-4678-4b21-a701-a113696d4200",
   "metadata": {},
   "outputs": [
    {
     "name": "stdin",
     "output_type": "stream",
     "text": [
      " True\n"
     ]
    },
    {
     "ename": "ValueError",
     "evalue": "invalid literal for int() with base 10: 'True'",
     "output_type": "error",
     "traceback": [
      "\u001b[0;31m---------------------------------------------------------------------------\u001b[0m",
      "\u001b[0;31mValueError\u001b[0m                                Traceback (most recent call last)",
      "Cell \u001b[0;32mIn[3], line 2\u001b[0m\n\u001b[1;32m      1\u001b[0m \u001b[38;5;66;03m#to take input from user\u001b[39;00m\n\u001b[0;32m----> 2\u001b[0m x\u001b[38;5;241m=\u001b[39m \u001b[38;5;28;43mint\u001b[39;49m\u001b[43m \u001b[49m\u001b[43m(\u001b[49m\u001b[38;5;28;43minput\u001b[39;49m\u001b[43m(\u001b[49m\u001b[43m)\u001b[49m\u001b[43m)\u001b[49m\n",
      "\u001b[0;31mValueError\u001b[0m: invalid literal for int() with base 10: 'True'"
     ]
    }
   ],
   "source": [
    "#to take input from user\n",
    "x = bool(input())"
   ]
  },
  {
   "cell_type": "code",
   "execution_count": 2,
   "id": "dfffb901-8576-4672-a132-cf3ee71b5711",
   "metadata": {},
   "outputs": [
    {
     "data": {
      "text/plain": [
       "str"
      ]
     },
     "execution_count": 2,
     "metadata": {},
     "output_type": "execute_result"
    }
   ],
   "source": [
    "type(x)"
   ]
  },
  {
   "cell_type": "code",
   "execution_count": null,
   "id": "7a2a67db-e6ae-4cd8-9f1b-f6ffd2da0c63",
   "metadata": {},
   "outputs": [],
   "source": [
    "True\n"
   ]
  },
  {
   "cell_type": "code",
   "execution_count": null,
   "id": "13764912-dec2-4cc2-a91a-6bf5fdfe08dc",
   "metadata": {},
   "outputs": [],
   "source": [
    "v = input()\n"
   ]
  },
  {
   "cell_type": "code",
   "execution_count": null,
   "id": "3028163d-5bc7-4edf-952c-b31ead80068f",
   "metadata": {},
   "outputs": [],
   "source": [
    "s=\"Sudh\"\n"
   ]
  },
  {
   "cell_type": "code",
   "execution_count": null,
   "id": "90abf641-2abe-4979-86c2-7db51179e0fa",
   "metadata": {},
   "outputs": [],
   "source": []
  },
  {
   "cell_type": "code",
   "execution_count": 1,
   "id": "00949346-5fd4-40e2-8f1d-0d7e9d2592ad",
   "metadata": {},
   "outputs": [
    {
     "ename": "NameError",
     "evalue": "name 's' is not defined",
     "output_type": "error",
     "traceback": [
      "\u001b[0;31m---------------------------------------------------------------------------\u001b[0m",
      "\u001b[0;31mNameError\u001b[0m                                 Traceback (most recent call last)",
      "Cell \u001b[0;32mIn[1], line 1\u001b[0m\n\u001b[0;32m----> 1\u001b[0m \u001b[43ms\u001b[49m\n",
      "\u001b[0;31mNameError\u001b[0m: name 's' is not defined"
     ]
    }
   ],
   "source": [
    "s"
   ]
  },
  {
   "cell_type": "code",
   "execution_count": 1,
   "id": "34f7ad95-1df2-43ef-9eda-d5907bbb7a49",
   "metadata": {},
   "outputs": [],
   "source": [
    "s=\"sudh\"\n"
   ]
  },
  {
   "cell_type": "code",
   "execution_count": 2,
   "id": "159c524e-25d9-4ce2-9c7e-b804da5b24a4",
   "metadata": {},
   "outputs": [
    {
     "data": {
      "text/plain": [
       "'sudh'"
      ]
     },
     "execution_count": 2,
     "metadata": {},
     "output_type": "execute_result"
    }
   ],
   "source": [
    "s"
   ]
  },
  {
   "cell_type": "code",
   "execution_count": 3,
   "id": "6c0c57f9-1890-438f-b6d9-7d5eda58ce50",
   "metadata": {},
   "outputs": [
    {
     "data": {
      "text/plain": [
       "'u'"
      ]
     },
     "execution_count": 3,
     "metadata": {},
     "output_type": "execute_result"
    }
   ],
   "source": [
    "\"\"\"forward index or backword indxes\"\"\"\n",
    "s[1]"
   ]
  },
  {
   "cell_type": "code",
   "execution_count": 4,
   "id": "75fe7fde-2c96-45a8-bcf8-1e1a0363fe8a",
   "metadata": {},
   "outputs": [
    {
     "data": {
      "text/plain": [
       "'h'"
      ]
     },
     "execution_count": 4,
     "metadata": {},
     "output_type": "execute_result"
    }
   ],
   "source": [
    "s[3]"
   ]
  },
  {
   "cell_type": "code",
   "execution_count": 5,
   "id": "08c50cad-e7d1-471b-a498-97b92f683664",
   "metadata": {},
   "outputs": [
    {
     "ename": "IndexError",
     "evalue": "string index out of range",
     "output_type": "error",
     "traceback": [
      "\u001b[0;31m---------------------------------------------------------------------------\u001b[0m",
      "\u001b[0;31mIndexError\u001b[0m                                Traceback (most recent call last)",
      "Cell \u001b[0;32mIn[5], line 1\u001b[0m\n\u001b[0;32m----> 1\u001b[0m \u001b[43ms\u001b[49m\u001b[43m[\u001b[49m\u001b[38;5;241;43m100\u001b[39;49m\u001b[43m]\u001b[49m\n",
      "\u001b[0;31mIndexError\u001b[0m: string index out of range"
     ]
    }
   ],
   "source": [
    "s[100]"
   ]
  },
  {
   "cell_type": "code",
   "execution_count": 6,
   "id": "3179b15c-6cea-4cca-99a5-589c2e100fba",
   "metadata": {},
   "outputs": [
    {
     "data": {
      "text/plain": [
       "'h'"
      ]
     },
     "execution_count": 6,
     "metadata": {},
     "output_type": "execute_result"
    }
   ],
   "source": [
    "s[-1]"
   ]
  },
  {
   "cell_type": "code",
   "execution_count": 7,
   "id": "c83e47e7-0320-41a9-a267-d09ccb7af935",
   "metadata": {},
   "outputs": [
    {
     "data": {
      "text/plain": [
       "'d'"
      ]
     },
     "execution_count": 7,
     "metadata": {},
     "output_type": "execute_result"
    }
   ],
   "source": [
    "s[-2]"
   ]
  },
  {
   "cell_type": "code",
   "execution_count": 8,
   "id": "b0499c71-4915-44a2-8e08-50213ff16b1e",
   "metadata": {},
   "outputs": [
    {
     "data": {
      "text/plain": [
       "'s'"
      ]
     },
     "execution_count": 8,
     "metadata": {},
     "output_type": "execute_result"
    }
   ],
   "source": [
    "s[-4]"
   ]
  },
  {
   "cell_type": "code",
   "execution_count": 9,
   "id": "43b43899-1a26-40de-80a6-d56c43d64594",
   "metadata": {},
   "outputs": [
    {
     "ename": "IndexError",
     "evalue": "string index out of range",
     "output_type": "error",
     "traceback": [
      "\u001b[0;31m---------------------------------------------------------------------------\u001b[0m",
      "\u001b[0;31mIndexError\u001b[0m                                Traceback (most recent call last)",
      "Cell \u001b[0;32mIn[9], line 1\u001b[0m\n\u001b[0;32m----> 1\u001b[0m \u001b[43ms\u001b[49m\u001b[43m[\u001b[49m\u001b[38;5;241;43m-\u001b[39;49m\u001b[38;5;241;43m65\u001b[39;49m\u001b[43m]\u001b[49m\n",
      "\u001b[0;31mIndexError\u001b[0m: string index out of range"
     ]
    }
   ],
   "source": [
    "s[-65]"
   ]
  },
  {
   "cell_type": "code",
   "execution_count": 15,
   "id": "f319c937-5e7f-41e4-afd2-c65199769485",
   "metadata": {},
   "outputs": [],
   "source": [
    "s1=\"pwskills\"\n"
   ]
  },
  {
   "cell_type": "code",
   "execution_count": 16,
   "id": "07dd1fef-e9ff-4b23-853f-5a3481509923",
   "metadata": {},
   "outputs": [
    {
     "data": {
      "text/plain": [
       "'pw'"
      ]
     },
     "execution_count": 16,
     "metadata": {},
     "output_type": "execute_result"
    }
   ],
   "source": [
    "s1[0:2]"
   ]
  },
  {
   "cell_type": "code",
   "execution_count": 19,
   "id": "be4df842-f526-4139-8ba8-81fa622fd7d1",
   "metadata": {},
   "outputs": [
    {
     "data": {
      "text/plain": [
       "'skill'"
      ]
     },
     "execution_count": 19,
     "metadata": {},
     "output_type": "execute_result"
    }
   ],
   "source": [
    "s1[2:7]"
   ]
  },
  {
   "cell_type": "code",
   "execution_count": 22,
   "id": "a91702b9-1410-44ec-8e83-1024763e3a93",
   "metadata": {},
   "outputs": [
    {
     "data": {
      "text/plain": [
       "'skills'"
      ]
     },
     "execution_count": 22,
     "metadata": {},
     "output_type": "execute_result"
    }
   ],
   "source": [
    "s1[2:800]"
   ]
  },
  {
   "cell_type": "markdown",
   "id": "8951a73e-2419-452e-bcf4-da69bfa5fcc2",
   "metadata": {},
   "source": [
    "s1[2:]"
   ]
  },
  {
   "cell_type": "code",
   "execution_count": 23,
   "id": "065c7b57-ff5e-4293-b149-bbfac3bbaf54",
   "metadata": {},
   "outputs": [
    {
     "data": {
      "text/plain": [
       "'skills'"
      ]
     },
     "execution_count": 23,
     "metadata": {},
     "output_type": "execute_result"
    }
   ],
   "source": [
    "s1[2:]"
   ]
  },
  {
   "cell_type": "code",
   "execution_count": 27,
   "id": "7cb6d537-2995-4e5b-bdad-d58c71106546",
   "metadata": {},
   "outputs": [
    {
     "data": {
      "text/plain": [
       "'psil'"
      ]
     },
     "execution_count": 27,
     "metadata": {},
     "output_type": "execute_result"
    }
   ],
   "source": [
    "s1[0:7:2]#here 2 is jump operater "
   ]
  },
  {
   "cell_type": "markdown",
   "id": "7e02c9b5-7ec5-4a2c-93a0-435ceb3e2869",
   "metadata": {},
   "source": []
  },
  {
   "cell_type": "code",
   "execution_count": 28,
   "id": "08ca41ee-b01c-46c2-90e8-208fa01e2d56",
   "metadata": {},
   "outputs": [
    {
     "data": {
      "text/plain": [
       "'pwskills'"
      ]
     },
     "execution_count": 28,
     "metadata": {},
     "output_type": "execute_result"
    }
   ],
   "source": [
    "s1"
   ]
  },
  {
   "cell_type": "code",
   "execution_count": 31,
   "id": "7f7b7826-1bb9-4af2-8ebe-fb7794317db7",
   "metadata": {},
   "outputs": [
    {
     "data": {
      "text/plain": [
       "'slli'"
      ]
     },
     "execution_count": 31,
     "metadata": {},
     "output_type": "execute_result"
    }
   ],
   "source": [
    "s1[7:3:-1]"
   ]
  },
  {
   "cell_type": "code",
   "execution_count": 32,
   "id": "3950e0f4-7995-4121-b1ae-72836c0400d8",
   "metadata": {},
   "outputs": [
    {
     "data": {
      "text/plain": [
       "'slli'"
      ]
     },
     "execution_count": 32,
     "metadata": {},
     "output_type": "execute_result"
    }
   ],
   "source": [
    "s1[-1:-5:-1]"
   ]
  },
  {
   "cell_type": "code",
   "execution_count": 34,
   "id": "80ac28e2-8520-40ef-9922-2129e1119b29",
   "metadata": {},
   "outputs": [
    {
     "data": {
      "text/plain": [
       "'sllikswp'"
      ]
     },
     "execution_count": 34,
     "metadata": {},
     "output_type": "execute_result"
    }
   ],
   "source": [
    "s1[7:-9:-1]"
   ]
  },
  {
   "cell_type": "code",
   "execution_count": null,
   "id": "4de9781a-f5f1-4422-a0de-78a37b93e59b",
   "metadata": {},
   "outputs": [],
   "source": []
  }
 ],
 "metadata": {
  "kernelspec": {
   "display_name": "Python 3 (ipykernel)",
   "language": "python",
   "name": "python3"
  },
  "language_info": {
   "codemirror_mode": {
    "name": "ipython",
    "version": 3
   },
   "file_extension": ".py",
   "mimetype": "text/x-python",
   "name": "python",
   "nbconvert_exporter": "python",
   "pygments_lexer": "ipython3",
   "version": "3.10.8"
  }
 },
 "nbformat": 4,
 "nbformat_minor": 5
}
