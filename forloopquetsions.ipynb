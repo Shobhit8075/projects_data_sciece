{
 "cells": [
  {
   "cell_type": "markdown",
   "metadata": {},
   "source": [
    "#Basic Level "
   ]
  },
  {
   "cell_type": "code",
   "execution_count": null,
   "metadata": {},
   "outputs": [],
   "source": [
    "\n",
    "#1. Write a python program to print the numbers from 1 to 10 using a for loop .\n",
    "for i in range(1,11):\n",
    "    print(i)"
   ]
  },
  {
   "cell_type": "code",
   "execution_count": null,
   "metadata": {},
   "outputs": [],
   "source": [
    "#2. Create a program that calculates the sum of all numbers in a list using a `for` loop.\n",
    "l1 = list(input(\"Enter the number in the list\"))\n",
    "sum = 0 \n",
    "for i in l1:\n",
    "    sum+=int(i)\n",
    "print(f\"Sum of the number in the list{l1} = {sum}\")\n"
   ]
  },
  {
   "cell_type": "code",
   "execution_count": null,
   "metadata": {},
   "outputs": [],
   "source": [
    "#3. Write a program to print the characters of a string in reverse order using a `for` loop.\n",
    "s1 = input(\"Enter the string \")\n",
    "s2 = \"\"\n",
    "for i in reversed(s1):\n",
    "    print(i)"
   ]
  },
  {
   "cell_type": "code",
   "execution_count": 7,
   "metadata": {},
   "outputs": [
    {
     "name": "stdout",
     "output_type": "stream",
     "text": [
      "the factorial of the number is = 1\n"
     ]
    }
   ],
   "source": [
    "\n",
    "#4. Develop a program that finds the factorial of a given number using a `for` loop.\n",
    "n = int(input(\"Enter the number whose fatorial you want \"))\n",
    "fact = 1\n",
    "if n<0 :\n",
    "    print(\"Please enter the non negative number  \")\n",
    "elif n ==1 or n ==0:\n",
    "    print( f\"the factorial of the number is =\", n)\n",
    "else :\n",
    "    for i in range(1,n+1):\n",
    "        fact*=i\n",
    "    print(fact)"
   ]
  },
  {
   "cell_type": "code",
   "execution_count": 6,
   "metadata": {},
   "outputs": [
    {
     "name": "stdout",
     "output_type": "stream",
     "text": [
      "2*1=2\n",
      "2*2=4\n",
      "2*3=6\n",
      "2*4=8\n",
      "2*5=10\n",
      "2*6=12\n",
      "2*7=14\n",
      "2*8=16\n",
      "2*9=18\n",
      "2*10=20\n"
     ]
    }
   ],
   "source": [
    "#5. Create a program to print the multiplication table of a given number using a `for` loop.\n",
    "n = int(input(\"Enter the number whose multiplication table you want \"))\n",
    "for i in range(1,11):\n",
    "    pro =n*int(i) \n",
    "    print(f\"{n}*{i}={pro}\")"
   ]
  },
  {
   "cell_type": "code",
   "execution_count": 7,
   "metadata": {},
   "outputs": [
    {
     "name": "stdout",
     "output_type": "stream",
     "text": [
      "number of even number = 4 and number of odd numbers is = 5 \n"
     ]
    }
   ],
   "source": [
    "#6. Write a program that counts the number of even and odd numbers in a list using a `for` loop\n",
    "l1 = list(input(\"Enter the numbers to the list\"))\n",
    "e = 0\n",
    "o = 0\n",
    "for i in l1 :\n",
    "    if int(i)%2==0:\n",
    "        e+=1\n",
    "    else :\n",
    "        o+=1\n",
    "print(f\"number of even number = {e} and number of odd numbers is = {o} \")"
   ]
  },
  {
   "cell_type": "code",
   "execution_count": 12,
   "metadata": {},
   "outputs": [
    {
     "name": "stdout",
     "output_type": "stream",
     "text": [
      "1\n",
      "4\n",
      "9\n",
      "16\n",
      "25\n"
     ]
    }
   ],
   "source": [
    "#7. Develop a program that prints the squares of numbers from 1 to 5 using a `for` loop.\n",
    "for i in range(1,6):\n",
    "    print(f\"{i*i}\")"
   ]
  },
  {
   "cell_type": "code",
   "execution_count": 13,
   "metadata": {},
   "outputs": [
    {
     "name": "stdout",
     "output_type": "stream",
     "text": [
      "the length of the string is 7\n"
     ]
    }
   ],
   "source": [
    "#8. Create a program to find the length of a string without using the `len()` function\n",
    "s = str(input(\"Enter a string \"))\n",
    "len = 0 \n",
    "for i in s :\n",
    "    len+=1\n",
    "print(f\"the length of the string is {len}\")\n"
   ]
  },
  {
   "cell_type": "code",
   "execution_count": 15,
   "metadata": {},
   "outputs": [
    {
     "name": "stdout",
     "output_type": "stream",
     "text": [
      "the average of the numbers in the given list = 2.0\n"
     ]
    }
   ],
   "source": [
    "#9. Write a program that calculates the average of a list of numbers using a `for` loop.\n",
    "l1 = list(input(\"Enter the list of the to find the average \"))\n",
    "count = 0 \n",
    "sum = 0 \n",
    "for i in l1:\n",
    "    count+=1\n",
    "    sum+=int(i)\n",
    "avg = sum/count\n",
    "print(f\"the average of the numbers in the given list = {avg}\")\n"
   ]
  },
  {
   "cell_type": "code",
   "execution_count": 17,
   "metadata": {},
   "outputs": [
    {
     "name": "stdout",
     "output_type": "stream",
     "text": [
      "Fibonacci Series with 10 terms: [0, 1, 1, 2, 3, 5, 8, 13, 21, 34]\n"
     ]
    }
   ],
   "source": [
    "#10. Develop a program that prints the first `n` Fibonacci numbers using a `for` loop\n",
    "def fibonacci(n):\n",
    "    fib_series = [0, 1]\n",
    "\n",
    "    for i in range(2, n):\n",
    "        next_term = fib_series[-1] + fib_series[-2]\n",
    "        fib_series.append(next_term)\n",
    "\n",
    "    return fib_series\n",
    "\n",
    "# Change the value of 'n' to the number of terms you want in the Fibonacci series\n",
    "n = 10  # For example, to print the first 10 terms\n",
    "result = fibonacci(n)\n",
    "\n",
    "print(f\"Fibonacci Series with {n} terms: {result}\")\n"
   ]
  },
  {
   "cell_type": "markdown",
   "metadata": {},
   "source": [
    "Intermediate Level:"
   ]
  },
  {
   "cell_type": "code",
   "execution_count": null,
   "metadata": {},
   "outputs": [],
   "source": [
    "#11. Write a program to check if a given list contains any duplicates using a `for` loop.\n",
    "def has_duplicates(lst):\n",
    "    seen = set()\n",
    "    for item in lst:\n",
    "        if item in seen:\n",
    "            return True\n",
    "        seen.add(item)\n",
    "    return False\n",
    "\n",
    "# Example usage:\n",
    "my_list = [1, 2, 3, 4, 5, 1]\n",
    "if has_duplicates(my_list):\n",
    "    print(\"The list contains duplicates.\")\n",
    "else:\n",
    "    print(\"The list does not contain duplicates.\")\n"
   ]
  },
  {
   "cell_type": "code",
   "execution_count": null,
   "metadata": {},
   "outputs": [],
   "source": [
    "#12. Create a program that prints the prime numbers in a given range using a `for` loop.\n",
    "def is_prime(num):\n",
    "    if num < 2:\n",
    "        return False\n",
    "    for i in range(2, int(num**0.5) + 1):\n",
    "        if num % i == 0:\n",
    "            return False\n",
    "    return True\n",
    "\n",
    "def print_primes_in_range(start, end):\n",
    "    for num in range(start, end + 1):\n",
    "        if is_prime(num):\n",
    "            print(num, end=\" \")\n",
    "\n",
    "# Example usage:\n",
    "start_range = 10\n",
    "end_range = 50\n",
    "print(f\"Prime numbers between {start_range} and {end_range}:\")\n",
    "print_primes_in_range(start_range, end_range)\n"
   ]
  },
  {
   "cell_type": "code",
   "execution_count": 4,
   "metadata": {},
   "outputs": [
    {
     "name": "stdout",
     "output_type": "stream",
     "text": [
      " number of voweles in the given string =3\n"
     ]
    }
   ],
   "source": [
    "#13. Develop a program that counts the number of vowels in a string using a `for` loop.\n",
    "s = input(\"Enter the string \")\n",
    "v = 'AEIOUaeiou'\n",
    "count = 0\n",
    "for i in s :\n",
    "    if i in v :\n",
    "        count+=1\n",
    "print(f\" number of voweles in the given string = {count}\")"
   ]
  },
  {
   "cell_type": "code",
   "execution_count": null,
   "metadata": {},
   "outputs": [],
   "source": [
    "#14. Write a program to find the maximum element in a 2D list using a nested `for` loop.\n",
    "def find_max_element(matrix):\n",
    "    if not matrix or not matrix[0]:\n",
    "        return None  # Return None for empty matrices\n",
    "\n",
    "    max_element = matrix[0][0]\n",
    "\n",
    "    for row in matrix:\n",
    "        for element in row:\n",
    "            if element > max_element:\n",
    "                max_element = element\n",
    "\n",
    "    return max_element\n",
    "\n",
    "# Example usage:\n",
    "my_matrix = [\n",
    "    [3, 8, 1],\n",
    "    [4, 6, 2],\n",
    "    [7, 0, 5]\n",
    "]\n",
    "\n",
    "result = find_max_element(my_matrix)\n",
    "\n",
    "if result is not None:\n",
    "    print(f\"The maximum element in the 2D list is: {result}\")\n",
    "else:\n",
    "    print(\"The 2D list is empty.\")\n"
   ]
  },
  {
   "cell_type": "code",
   "execution_count": null,
   "metadata": {},
   "outputs": [],
   "source": [
    "#15. Create a program that removes all occurrences of a specific element from a list using a `for` loop.\n",
    "def remove_element(lst, target):\n",
    "    new_list = [item for item in lst if item != target]\n",
    "    return new_list\n",
    "\n",
    "# Example usage:\n",
    "original_list = [1, 2, 3, 4, 2, 5, 2, 6]\n",
    "element_to_remove = 2\n",
    "\n",
    "new_list = remove_element(original_list, element_to_remove)\n",
    "\n",
    "print(f\"Original List: {original_list}\")\n",
    "print(f\"List after removing {element_to_remove}: {new_list}\")\n"
   ]
  },
  {
   "cell_type": "code",
   "execution_count": 5,
   "metadata": {},
   "outputs": [
    {
     "name": "stdout",
     "output_type": "stream",
     "text": [
      "1*1=1\n",
      "1*2=2\n",
      "1*3=3\n",
      "1*4=4\n",
      "1*5=5\n",
      "1*6=6\n",
      "1*7=7\n",
      "1*8=8\n",
      "1*9=9\n",
      "1*10=10\n",
      "2*1=2\n",
      "2*2=4\n",
      "2*3=6\n",
      "2*4=8\n",
      "2*5=10\n",
      "2*6=12\n",
      "2*7=14\n",
      "2*8=16\n",
      "2*9=18\n",
      "2*10=20\n",
      "3*1=3\n",
      "3*2=6\n",
      "3*3=9\n",
      "3*4=12\n",
      "3*5=15\n",
      "3*6=18\n",
      "3*7=21\n",
      "3*8=24\n",
      "3*9=27\n",
      "3*10=30\n",
      "4*1=4\n",
      "4*2=8\n",
      "4*3=12\n",
      "4*4=16\n",
      "4*5=20\n",
      "4*6=24\n",
      "4*7=28\n",
      "4*8=32\n",
      "4*9=36\n",
      "4*10=40\n",
      "5*1=5\n",
      "5*2=10\n",
      "5*3=15\n",
      "5*4=20\n",
      "5*5=25\n",
      "5*6=30\n",
      "5*7=35\n",
      "5*8=40\n",
      "5*9=45\n",
      "5*10=50\n"
     ]
    }
   ],
   "source": [
    "#16. Develop a program that generates a multiplication table for numbers from 1 to 5 using a nested `for` loop.\n",
    "for i in range(1,6):\n",
    "    for j in range(1,11):\n",
    "        print(f\"{i}*{j}={i*j}\")"
   ]
  },
  {
   "cell_type": "code",
   "execution_count": 6,
   "metadata": {},
   "outputs": [
    {
     "name": "stdout",
     "output_type": "stream",
     "text": [
      "the list of temperatures in degree celsius is [-11.11111111111111, 25.555555555555557, 36.66666666666667]\n"
     ]
    }
   ],
   "source": [
    "#17. Write a program that converts a list of Fahrenheit temperatures to Celsius using a `for` loop\n",
    "l1 = input(\"Enter the list of temperature in degree fahrenheit seperated by comma(,) \")\n",
    "l3 = l1.split(',')\n",
    "l2 = []\n",
    "for i in l3 :\n",
    "    c = 5/9*(int(i)-32)\n",
    "    l2.append(c)\n",
    "print(f\"the list of temperatures in degree celsius is {l2}\")"
   ]
  },
  {
   "cell_type": "code",
   "execution_count": 7,
   "metadata": {},
   "outputs": [
    {
     "name": "stdout",
     "output_type": "stream",
     "text": [
      "the list of the common elements in the both the list are ['4', '5', '6']\n"
     ]
    }
   ],
   "source": [
    "#18. Create a program to print the common elements from two lists using a `for` loop.\n",
    "l1 = list(input(\"Enter the elements in the list1 \"))\n",
    "l2 = list(input(\"Enter the elements in the list2\"))\n",
    "l3 = []\n",
    "for i in l1:\n",
    "    for j in l2:\n",
    "        if i == j :\n",
    "            l3.append(i)\n",
    "print(f\"the list of the common elements in the both the list are {l3}\")\n",
    "          "
   ]
  },
  {
   "cell_type": "code",
   "execution_count": 20,
   "metadata": {},
   "outputs": [
    {
     "name": "stdout",
     "output_type": "stream",
     "text": [
      "* \n",
      "* * \n",
      "* * * \n",
      "* * * * \n",
      "* * * * * \n",
      "* * * * * * \n",
      "* * * * * * * \n",
      "* * * * * * * * \n"
     ]
    }
   ],
   "source": [
    "#19. Develop a program that prints the pattern of right-angled triangles using a `for` loop. Use ‘*’ to draw the pattern\n",
    "r = int(input(\"Enter the number of rows\"))\n",
    "for i in range(1,r+1):\n",
    "    for j in range(1,i+1):\n",
    "        print(\"*\",end=\" \")\n",
    "    print()"
   ]
  },
  {
   "cell_type": "code",
   "execution_count": 23,
   "metadata": {},
   "outputs": [
    {
     "name": "stdout",
     "output_type": "stream",
     "text": [
      "The GCD of 48 and 18 is: 6\n"
     ]
    }
   ],
   "source": [
    "#20. Write a program to find the greatest common divisor (GCD) of two numbers using a `for` loop.\n",
    "def find_gcd(a,b):\n",
    "    if b>a:\n",
    "        a,b = b,a\n",
    "    for i in range(b,0,-1):\n",
    "        if a%i ==0 and b%i ==0:\n",
    "            return i \n",
    "num1 = 48 \n",
    "num2 = 18 \n",
    "result = find_gcd(num1, num2)\n",
    "print(f\"The GCD of {num1} and {num2} is: {result}\")"
   ]
  },
  {
   "cell_type": "markdown",
   "metadata": {},
   "source": [
    "Advanced Level:"
   ]
  },
  {
   "cell_type": "code",
   "execution_count": null,
   "metadata": {},
   "outputs": [],
   "source": [
    "#21. Create a program that calculates the sum of the digits of numbers in a list using a list comprehension.\n",
    "def sum_of_digits(number):\n",
    "    return sum(int(digit) for digit in str(number) if digit.isdigit())\n",
    "\n",
    "# Example: Calculate the sum of digits for each number in a list\n",
    "numbers = [123, 456, 789]\n",
    "\n",
    "sums = [sum_of_digits(num) for num in numbers]\n",
    "\n",
    "# Display the results\n",
    "for i in range(len(numbers)):\n",
    "    print(f\"Sum of digits for {numbers[i]} is: {sums[i]}\")\n"
   ]
  },
  {
   "cell_type": "code",
   "execution_count": null,
   "metadata": {},
   "outputs": [],
   "source": [
    "#22. Write a program to find the prime factors of a given number using a `for` loop and list comprehension\n",
    "def prime_factors(number):\n",
    "    factors = [i for i in range(1, number + 1) if number % i == 0 and all(i % j != 0 for j in range(2, int(i**0.5) + 1))]\n",
    "    return factors\n",
    "\n",
    "# Example: Find the prime factors of a number\n",
    "input_number = int(input(\"Enter a number: \"))\n",
    "\n",
    "result = prime_factors(input_number)\n",
    "\n",
    "print(f\"Prime factors of {input_number}: {result}\")\n"
   ]
  },
  {
   "cell_type": "code",
   "execution_count": null,
   "metadata": {},
   "outputs": [],
   "source": [
    "#23. Develop a program that extracts unique elements from a list and stores them in a new list using a list comprehension.\n",
    "def extract_unique_elements(input_list):\n",
    "    return list(set(element for element in input_list))\n",
    "\n",
    "# Example: Extract unique elements from a list\n",
    "original_list = [1, 2, 3, 4, 2, 3, 5, 6, 1, 7, 8, 9]\n",
    "\n",
    "unique_elements = extract_unique_elements(original_list)\n",
    "\n",
    "print(f\"Original List: {original_list}\")\n",
    "print(f\"Unique Elements: {unique_elements}\")\n"
   ]
  },
  {
   "cell_type": "code",
   "execution_count": null,
   "metadata": {},
   "outputs": [],
   "source": [
    "#24. Create a program that generates a list of all palindromic numbers up to a specified limit using a list comprehension.\n",
    "def is_palindrome(number):\n",
    "    return str(number) == str(number)[::-1]\n",
    "\n",
    "def generate_palindromic_numbers(limit):\n",
    "    return [num for num in range(1, limit + 1) if is_palindrome(num)]\n",
    "\n",
    "# Example: Generate palindromic numbers up to a specified limit\n",
    "limit = int(input(\"Enter the limit: \"))\n",
    "\n",
    "palindromic_numbers = generate_palindromic_numbers(limit)\n",
    "\n",
    "print(f\"Palindromic Numbers up to {limit}: {palindromic_numbers}\")\n"
   ]
  },
  {
   "cell_type": "code",
   "execution_count": null,
   "metadata": {},
   "outputs": [],
   "source": [
    "#25. Write a program to flatten a nested list using list comprehension.\n",
    "def flatten_nested_list(nested_list):\n",
    "    return [item for sublist in nested_list for item in (flatten_nested_list(sublist) if isinstance(sublist, list) else [sublist])]\n",
    "\n",
    "# Example: Flatten a nested list\n",
    "nested_list = [1, [2, [3, 4], 5], 6, [7, 8]]\n",
    "\n",
    "flattened_list = flatten_nested_list(nested_list)\n",
    "\n",
    "print(f\"Nested List: {nested_list}\")\n",
    "print(f\"Flattened List: {flattened_list}\")\n"
   ]
  },
  {
   "cell_type": "code",
   "execution_count": null,
   "metadata": {},
   "outputs": [],
   "source": [
    "#26. Develop a program that computes the sum of even and odd numbers in a list separately using list comprehension.\n",
    "def sum_even_odd_numbers(input_list):\n",
    "    even_sum = sum(x for x in input_list if x % 2 == 0)\n",
    "    odd_sum = sum(x for x in input_list if x % 2 != 0)\n",
    "    return even_sum, odd_sum\n",
    "\n",
    "# Example: Compute the sum of even and odd numbers in a list\n",
    "numbers = [1, 2, 3, 4, 5, 6, 7, 8, 9]\n",
    "\n",
    "even_sum, odd_sum = sum_even_odd_numbers(numbers)\n",
    "\n",
    "print(f\"Original List: {numbers}\")\n",
    "print(f\"Sum of Even Numbers: {even_sum}\")\n",
    "print(f\"Sum of Odd Numbers: {odd_sum}\")\n"
   ]
  },
  {
   "cell_type": "code",
   "execution_count": null,
   "metadata": {},
   "outputs": [],
   "source": [
    "#27. Create a program that generates a list of squares of odd numbers between 1 and 10 using list comprehension\n",
    "# Generate a list of squares of odd numbers between 1 and 10\n",
    "squares_of_odd_numbers = [x**2 for x in range(1, 11) if x % 2 != 0]\n",
    "\n",
    "# Print the result\n",
    "print(\"Squares of Odd Numbers between 1 and 10:\", squares_of_odd_numbers)\n"
   ]
  },
  {
   "cell_type": "code",
   "execution_count": null,
   "metadata": {},
   "outputs": [],
   "source": [
    "#28. Write a program that combines two lists into a dictionary using list comprehension.\n",
    "# Example lists\n",
    "keys = ['name', 'age', 'city']\n",
    "values = ['John', 25, 'New York']\n",
    "\n",
    "# Combine two lists into a dictionary using list comprehension\n",
    "combined_dict = {keys[i]: values[i] for i in range(min(len(keys), len(values)))}\n",
    "\n",
    "# Print the resulting dictionary\n",
    "print(\"Combined Dictionary:\", combined_dict)\n"
   ]
  },
  {
   "cell_type": "code",
   "execution_count": null,
   "metadata": {},
   "outputs": [],
   "source": [
    "#29. Develop a program that extracts the vowels from a string and stores them in a list using list comprehension.\n",
    "# Function to extract vowels from a string\n",
    "def extract_vowels(input_string):\n",
    "    vowels = [char for char in input_string if char.lower() in 'aeiou']\n",
    "    return vowels\n",
    "\n",
    "# Example: Extract vowels from a string\n",
    "input_string = input(\"Enter a string: \")\n",
    "\n",
    "vowels_list = extract_vowels(input_string)\n",
    "\n",
    "print(f\"Original String: {input_string}\")\n",
    "print(f\"Extracted Vowels: {vowels_list}\")\n"
   ]
  },
  {
   "cell_type": "code",
   "execution_count": null,
   "metadata": {},
   "outputs": [],
   "source": [
    "#30. Create a program that removes all non-numeric characters from a list of strings using list comprehension.\n",
    "# Function to remove non-numeric characters from a string\n",
    "def remove_non_numeric(strings_list):\n",
    "    return [''.join(char for char in string if char.isnumeric()) for string in strings_list]\n",
    "\n",
    "# Example: Remove non-numeric characters from a list of strings\n",
    "strings_list = ['abc123', '456def', '789ghi', 'jkl']\n",
    "\n",
    "numeric_strings = remove_non_numeric(strings_list)\n",
    "\n",
    "print(f\"Original List: {strings_list}\")\n",
    "print(f\"List with Non-Numeric Characters Removed: {numeric_strings}\")\n"
   ]
  },
  {
   "cell_type": "markdown",
   "metadata": {},
   "source": [
    "Challenge Level :\n"
   ]
  },
  {
   "cell_type": "code",
   "execution_count": null,
   "metadata": {},
   "outputs": [],
   "source": [
    "#31. Write a program to generate a list of prime numbers using the Sieve of Eratosthenes algorithm and list comprehension.\n",
    "def sieve_of_eratosthenes(limit):\n",
    "    primes = [True] * (limit + 1)\n",
    "    primes[0] = primes[1] = False\n",
    "\n",
    "    for i in range(2, int(limit**0.5) + 1):\n",
    "        if primes[i]:\n",
    "            primes[i*i:limit+1:i] = [False] * len(range(i*i, limit+1, i))\n",
    "\n",
    "    return [num for num, is_prime in enumerate(primes) if is_prime]\n",
    "\n",
    "# Example: Generate a list of prime numbers up to a specified limit\n",
    "limit = int(input(\"Enter the limit: \"))\n",
    "\n",
    "prime_numbers = sieve_of_eratosthenes(limit)\n",
    "\n",
    "print(f\"Prime Numbers up to {limit}: {prime_numbers}\")\n"
   ]
  },
  {
   "cell_type": "code",
   "execution_count": null,
   "metadata": {},
   "outputs": [],
   "source": [
    "#32. Create a program that generates a list of all Pythagorean triplets up to a specified limit using list comprehension.\n",
    "def pythagorean_triplets(limit):\n",
    "    triplets = [(a, b, c) for a in range(1, limit+1)\n",
    "                           for b in range(a, limit+1)\n",
    "                           for c in range(b, limit+1)\n",
    "                           if a**2 + b**2 == c**2]\n",
    "    return triplets\n",
    "\n",
    "# Example: Generate a list of Pythagorean triplets up to a specified limit\n",
    "limit = int(input(\"Enter the limit: \"))\n",
    "\n",
    "pythagorean_triplet_list = pythagorean_triplets(limit)\n",
    "\n",
    "print(f\"Pythagorean Triplets up to {limit}: {pythagorean_triplet_list}\")\n",
    "\n"
   ]
  },
  {
   "cell_type": "code",
   "execution_count": null,
   "metadata": {},
   "outputs": [],
   "source": [
    "#33. Develop a program that generates a list of all possible combinations of two lists using list comprehension.\n",
    "# Function to generate all possible combinations of two lists\n",
    "def combine_lists(list1, list2):\n",
    "    combinations = [(x, y) for x in list1 for y in list2]\n",
    "    return combinations\n",
    "\n",
    "# Example: Generate all possible combinations of two lists\n",
    "list1 = [1, 2, 3]\n",
    "list2 = ['a', 'b', 'c']\n",
    "\n",
    "all_combinations = combine_lists(list1, list2)\n",
    "\n",
    "print(f\"List 1: {list1}\")\n",
    "print(f\"List 2: {list2}\")\n",
    "print(f\"All Possible Combinations: {all_combinations}\")\n"
   ]
  },
  {
   "cell_type": "code",
   "execution_count": null,
   "metadata": {},
   "outputs": [],
   "source": [
    "#34. Write a program that calculates the mean, median, and mode of a list of numbers using list comprehension\n",
    "import statistics\n",
    "\n",
    "# Function to calculate mean using list comprehension\n",
    "def calculate_mean(numbers):\n",
    "    return sum(numbers) / len(numbers) if len(numbers) > 0 else None\n",
    "\n",
    "# Example: Calculate mean, median, and mode of a list\n",
    "numbers = [2, 4, 6, 2, 8, 10, 2, 6, 8, 2]\n",
    "\n",
    "# Calculate mean using list comprehension\n",
    "mean = calculate_mean(numbers)\n",
    "\n",
    "# Calculate median using statistics module\n",
    "median = statistics.median(numbers)\n",
    "\n",
    "# Calculate mode using statistics module\n",
    "mode = statistics.mode(numbers)\n",
    "\n",
    "print(f\"Original List: {numbers}\")\n",
    "print(f\"Mean: {mean}\")\n",
    "print(f\"Median: {median}\")\n",
    "print(f\"Mode: {mode}\")\n"
   ]
  },
  {
   "cell_type": "code",
   "execution_count": null,
   "metadata": {},
   "outputs": [],
   "source": [
    "#35. Create a program that generates Pascal's triangle up to a specified number of rows using list comprehension.\n",
    "# Function to generate Pascal's triangle up to a specified number of rows\n",
    "def generate_pascals_triangle(num_rows):\n",
    "    triangle = [[1] + [triangle[row-1][i-1] + triangle[row-1][i] for i in range(1, row)] + [1] for row in range(1, num_rows + 1)]\n",
    "    return triangle\n",
    "\n",
    "# Example: Generate Pascal's triangle up to a specified number of rows\n",
    "num_rows = int(input(\"Enter the number of rows for Pascal's triangle: \"))\n",
    "\n",
    "pascals_triangle = generate_pascals_triangle(num_rows)\n",
    "\n",
    "# Print Pascal's triangle\n",
    "for row in pascals_triangle:\n",
    "    print(row)\n"
   ]
  },
  {
   "cell_type": "code",
   "execution_count": null,
   "metadata": {},
   "outputs": [],
   "source": [
    "#36. Develop a program that calculates the sum of the digits of a factorial of numbers from 1 to 5 using list comprehension.\n",
    "# Function to calculate the factorial of a number\n",
    "def factorial(n):\n",
    "    return 1 if n == 0 or n == 1 else n * factorial(n-1)\n",
    "\n",
    "# Calculate the sum of digits of the factorial using list comprehension\n",
    "factorial_sums = [sum(int(digit) for digit in str(factorial(num))) for num in range(1, 6)]\n",
    "\n",
    "# Print the results\n",
    "for num, factorial_sum in zip(range(1, 6), factorial_sums):\n",
    "    print(f\"Factorial of {num} and its digit sum: {factorial_sum}\")\n"
   ]
  },
  {
   "cell_type": "code",
   "execution_count": null,
   "metadata": {},
   "outputs": [],
   "source": [
    "#37. Write a program that finds the longest word in a sentence using list comprehension.\n",
    "# Function to find the longest word in a sentence\n",
    "def longest_word(sentence):\n",
    "    words = sentence.split()\n",
    "    return max(words, key=len)\n",
    "\n",
    "# Example: Find the longest word in a sentence\n",
    "input_sentence = input(\"Enter a sentence: \")\n",
    "\n",
    "result = longest_word(input_sentence)\n",
    "\n",
    "print(f\"The longest word in the sentence is: {result}\")\n"
   ]
  },
  {
   "cell_type": "code",
   "execution_count": null,
   "metadata": {},
   "outputs": [],
   "source": [
    "#38. Create a program that filters a list of strings to include only those with more than three vowels using list comprehension.\n",
    "# Function to count vowels in a string\n",
    "def count_vowels(word):\n",
    "    return sum(1 for char in word.lower() if char in 'aeiou')\n",
    "\n",
    "# Example: Filter a list of strings to include only those with more than three vowels\n",
    "word_list = [\"apple\", \"banana\", \"grape\", \"python\", \"hello\", \"programming\", \"ai\"]\n",
    "\n",
    "filtered_list = [word for word in word_list if count_vowels(word) > 3]\n",
    "\n",
    "print(f\"Original List: {word_list}\")\n",
    "print(f\"Filtered List (more than three vowels): {filtered_list}\")\n"
   ]
  },
  {
   "cell_type": "code",
   "execution_count": null,
   "metadata": {},
   "outputs": [],
   "source": [
    "#39. Develop a program that calculates the sum of the digits of numbers from 1 to 1000 using list comprehension\n",
    "# Function to calculate the sum of digits of a number\n",
    "def sum_of_digits(number):\n",
    "    return sum(int(digit) for digit in str(number))\n",
    "\n",
    "# Calculate the sum of digits for numbers from 1 to 1000 using list comprehension\n",
    "digit_sums = [sum_of_digits(num) for num in range(1, 1001)]\n",
    "\n",
    "# Print the results\n",
    "print(f\"The sum of digits for numbers from 1 to 1000 is: {sum(digit_sums)}\")\n"
   ]
  },
  {
   "cell_type": "code",
   "execution_count": null,
   "metadata": {},
   "outputs": [],
   "source": [
    "#40. Write a program that generates a list of prime palindromic numbers using list comprehension\n",
    "# Function to check if a number is prime\n",
    "def is_prime(number):\n",
    "    if number < 2:\n",
    "        return False\n",
    "    for i in range(2, int(number**0.5) + 1):\n",
    "        if number % i == 0:\n",
    "            return False\n",
    "    return True\n",
    "\n",
    "# Function to check if a number is palindromic\n",
    "def is_palindromic(number):\n",
    "    return str(number) == str(number)[::-1]\n",
    "\n",
    "# Generate a list of prime palindromic numbers using list comprehension\n",
    "prime_palindromic_numbers = [num for num in range(1, 1001) if is_prime(num) and is_palindromic(num)]\n",
    "\n",
    "# Print the result\n",
    "print(\"Prime Palindromic Numbers:\", prime_palindromic_numbers)\n"
   ]
  }
 ],
 "metadata": {
  "kernelspec": {
   "display_name": "Python 3",
   "language": "python",
   "name": "python3"
  },
  "language_info": {
   "codemirror_mode": {
    "name": "ipython",
    "version": 3
   },
   "file_extension": ".py",
   "mimetype": "text/x-python",
   "name": "python",
   "nbconvert_exporter": "python",
   "pygments_lexer": "ipython3",
   "version": "3.12.0"
  }
 },
 "nbformat": 4,
 "nbformat_minor": 2
}
