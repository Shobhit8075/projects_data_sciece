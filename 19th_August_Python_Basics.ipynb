{
 "cells": [
  {
   "cell_type": "code",
   "execution_count": null,
   "id": "597373f4-0945-4c75-aba3-f694f7a3397f",
   "metadata": {},
   "outputs": [],
   "source": [
    "# Declaring two variable assigning integer values and swapping the values"
   ]
  },
  {
   "cell_type": "code",
   "execution_count": 5,
   "id": "14813116-d8eb-4b04-ae7a-100d9a30edb7",
   "metadata": {},
   "outputs": [],
   "source": [
    "x=12 #assigning value to variable x"
   ]
  },
  {
   "cell_type": "code",
   "execution_count": 6,
   "id": "47d988b4-6600-4b88-9801-377fdbbf3639",
   "metadata": {},
   "outputs": [],
   "source": [
    "y=10 #assigning value to variable y"
   ]
  },
  {
   "cell_type": "code",
   "execution_count": 7,
   "id": "22ab3c13-e841-4ed4-9941-75c45186f4f5",
   "metadata": {},
   "outputs": [],
   "source": [
    "x,y=y,x #Swapping varaialbe\n"
   ]
  },
  {
   "cell_type": "code",
   "execution_count": 8,
   "id": "e1050393-d33b-4e67-b2c9-6916123f66fd",
   "metadata": {},
   "outputs": [
    {
     "data": {
      "text/plain": [
       "10"
      ]
     },
     "execution_count": 8,
     "metadata": {},
     "output_type": "execute_result"
    }
   ],
   "source": [
    "x #to print result of swapping"
   ]
  },
  {
   "cell_type": "code",
   "execution_count": 9,
   "id": "31eedde5-1c10-4328-86e1-e68344a45e6e",
   "metadata": {},
   "outputs": [
    {
     "data": {
      "text/plain": [
       "12"
      ]
     },
     "execution_count": 9,
     "metadata": {},
     "output_type": "execute_result"
    }
   ],
   "source": [
    "y #to print result of swapping"
   ]
  },
  {
   "cell_type": "code",
   "execution_count": 10,
   "id": "635b126a-c193-4f9c-b81d-371f676acac6",
   "metadata": {},
   "outputs": [],
   "source": [
    "# create a program to claculate area of a rectangle taking length and Width from user\n"
   ]
  },
  {
   "cell_type": "code",
   "execution_count": 16,
   "id": "d54dad8e-48bb-4fee-a68e-45cc919112a6",
   "metadata": {},
   "outputs": [
    {
     "name": "stdout",
     "output_type": "stream",
     "text": [
      "Please enter the length of the rectangle\n"
     ]
    },
    {
     "name": "stdin",
     "output_type": "stream",
     "text": [
      " 5\n"
     ]
    },
    {
     "name": "stdout",
     "output_type": "stream",
     "text": [
      "Please enter the width of the rectangle\n"
     ]
    },
    {
     "name": "stdin",
     "output_type": "stream",
     "text": [
      " 4\n"
     ]
    },
    {
     "name": "stdout",
     "output_type": "stream",
     "text": [
      "the area of the rectangle is  20\n"
     ]
    }
   ],
   "source": [
    "print(\"Please enter the length of the rectangle\")\n",
    "a=int(input()) #to ask input from user\n",
    "\n",
    "print(\"Please enter the width of the rectangle\")\n",
    "b=int(input()) #to ask input from user\n",
    "c=a*b #calculating area \n",
    "print(\"the area of the rectangle is \",c) #to print result\n"
   ]
  },
  {
   "cell_type": "code",
   "execution_count": 17,
   "id": "c7abcce5-fb7f-48d7-b370-e10bb1d47bad",
   "metadata": {},
   "outputs": [],
   "source": [
    "# Program to take input temperature as celsius and convert it to fahrenheit"
   ]
  },
  {
   "cell_type": "code",
   "execution_count": 76,
   "id": "b9911c95-6391-4ed4-be68-a5798b0a12e6",
   "metadata": {},
   "outputs": [
    {
     "name": "stdout",
     "output_type": "stream",
     "text": [
      "enter the temperature in degree celsius\n"
     ]
    },
    {
     "name": "stdin",
     "output_type": "stream",
     "text": [
      " 0\n"
     ]
    },
    {
     "name": "stdout",
     "output_type": "stream",
     "text": [
      "Given temperature in Fahrenheit is 32.0\n"
     ]
    }
   ],
   "source": [
    "print(\"enter the temperature in degree celsius\") #message to show user to ask input\n",
    "tc=float(input())\n",
    "tf=(tc*9/5)+32 #formula to convert celsius to fahrenheit\n",
    "print(\"Given temperature in Fahrenheit is\",tf) #to result a output"
   ]
  },
  {
   "cell_type": "code",
   "execution_count": 26,
   "id": "2ebbdd1d-2298-4b56-a683-61669e9d9b0c",
   "metadata": {},
   "outputs": [],
   "source": [
    "# Program to take input as String and print its length"
   ]
  },
  {
   "cell_type": "code",
   "execution_count": 29,
   "id": "e762856e-e0ac-43ed-8262-0f17fdedd29d",
   "metadata": {},
   "outputs": [
    {
     "name": "stdout",
     "output_type": "stream",
     "text": [
      "please enter a string to get its length\n"
     ]
    },
    {
     "name": "stdin",
     "output_type": "stream",
     "text": [
      " Shobhit\n"
     ]
    },
    {
     "name": "stdout",
     "output_type": "stream",
     "text": [
      "the length of the given string is  7\n"
     ]
    }
   ],
   "source": [
    "print(\"please enter a string to get its length\") #to show message to the user \n",
    "a=input()\n",
    "\n",
    "print(\"the length of the given string is \",len(a)) # to print result"
   ]
  },
  {
   "cell_type": "code",
   "execution_count": 31,
   "id": "7581b155-5ba0-4032-83e4-e0b7ff5115a4",
   "metadata": {},
   "outputs": [],
   "source": [
    "# Program to take a sentence from user and count the number of vowels in the string\n"
   ]
  },
  {
   "cell_type": "code",
   "execution_count": 41,
   "id": "7918c9c7-4d34-453c-b4ae-07b4839defd8",
   "metadata": {},
   "outputs": [
    {
     "name": "stdout",
     "output_type": "stream",
     "text": [
      "enter a sentence \n"
     ]
    },
    {
     "name": "stdin",
     "output_type": "stream",
     "text": [
      " hello world introducing a new programmer whose name is shobhit\n"
     ]
    },
    {
     "name": "stdout",
     "output_type": "stream",
     "text": [
      "Number of vowels in the given sentence is  19\n"
     ]
    }
   ],
   "source": [
    "print(\"enter a sentence \") # to show message to the user\n",
    "a=input() # to ask input \n",
    "b=str.upper(a) # to change all letter to capital letter\n",
    "vowels=\"AEIOU\"\n",
    "count = sum(b.count(vowel) for vowel in vowels) #counting number of vowels from the user input string\n",
    "print(\"Number of vowels in the given sentence is \",count) # to show the result as output\n"
   ]
  },
  {
   "cell_type": "code",
   "execution_count": 42,
   "id": "2b543a6f-3edf-4cf5-9c31-260cebedcdbe",
   "metadata": {},
   "outputs": [],
   "source": [
    "#Given a String reverse the order of string using slicing"
   ]
  },
  {
   "cell_type": "code",
   "execution_count": 51,
   "id": "300f64a1-710e-4dd4-bca6-91d52eda863c",
   "metadata": {},
   "outputs": [
    {
     "name": "stdout",
     "output_type": "stream",
     "text": [
      "enter a string to reverse\n"
     ]
    },
    {
     "name": "stdin",
     "output_type": "stream",
     "text": [
      " Shobhit\n"
     ]
    },
    {
     "data": {
      "text/plain": [
       "'tihbohS'"
      ]
     },
     "execution_count": 51,
     "metadata": {},
     "output_type": "execute_result"
    }
   ],
   "source": [
    "print(\"enter a string to reverse\") # message to the user \n",
    "s=input()\n",
    "s[::-1] #reversineg the string order"
   ]
  },
  {
   "cell_type": "code",
   "execution_count": null,
   "id": "9cf061e8-239d-4fa4-a56b-f43608fcf8d3",
   "metadata": {},
   "outputs": [],
   "source": [
    "# Program to take input as string and check if it is palindrome"
   ]
  },
  {
   "cell_type": "code",
   "execution_count": 78,
   "id": "da252224-7068-40a0-aecd-6cc490e1a457",
   "metadata": {},
   "outputs": [
    {
     "name": "stdout",
     "output_type": "stream",
     "text": [
      "enter a string\n"
     ]
    },
    {
     "name": "stdin",
     "output_type": "stream",
     "text": [
      " NITIN\n"
     ]
    },
    {
     "name": "stdout",
     "output_type": "stream",
     "text": [
      "Yes it is palindrome\n"
     ]
    }
   ],
   "source": [
    "print(\"enter a string\") # to show message\n",
    "s1=input()\n",
    "s2=s1[::-1] #to check \n",
    "\n",
    "if s1==s2:\n",
    "    print('Yes it is palindrome') # to print if yes \n",
    "else:\n",
    "    print('No it is not palindrome') # to print if no"
   ]
  },
  {
   "cell_type": "code",
   "execution_count": 73,
   "id": "9a6a7f96-66e7-400c-a05e-6c2f800b98c6",
   "metadata": {},
   "outputs": [],
   "source": [
    "# Program to take input as string and remove all the spaces between"
   ]
  },
  {
   "cell_type": "code",
   "execution_count": 75,
   "id": "d1070075-2a99-4680-9f9a-09dbf084c925",
   "metadata": {},
   "outputs": [
    {
     "name": "stdout",
     "output_type": "stream",
     "text": [
      "enter a string\n"
     ]
    },
    {
     "name": "stdin",
     "output_type": "stream",
     "text": [
      " hello world my name is shobhit chaurasia \n"
     ]
    },
    {
     "name": "stdout",
     "output_type": "stream",
     "text": [
      "original String = hello world my name is shobhit chaurasia \n",
      "modified String =  helloworldmynameisshobhitchaurasia\n"
     ]
    }
   ],
   "source": [
    "print(\"enter a string\") #to show message \n",
    "s=input() #to take input\n",
    "s1=s.replace(\" \",\"\") # to process the operation\n",
    "print(\"original String =\",s) # to show result\n",
    "print(\"modified String = \",s1) # to show result\n"
   ]
  },
  {
   "cell_type": "code",
   "execution_count": null,
   "id": "47c728bb-866b-4722-8f4b-781d5ed96f81",
   "metadata": {},
   "outputs": [],
   "source": []
  }
 ],
 "metadata": {
  "kernelspec": {
   "display_name": "Python 3 (ipykernel)",
   "language": "python",
   "name": "python3"
  },
  "language_info": {
   "codemirror_mode": {
    "name": "ipython",
    "version": 3
   },
   "file_extension": ".py",
   "mimetype": "text/x-python",
   "name": "python",
   "nbconvert_exporter": "python",
   "pygments_lexer": "ipython3",
   "version": "3.10.8"
  }
 },
 "nbformat": 4,
 "nbformat_minor": 5
}
