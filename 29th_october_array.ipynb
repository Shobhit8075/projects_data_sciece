{
 "cells": [
  {
   "cell_type": "markdown",
   "id": "2b7b667a-ae58-4c70-bc11-5308c92be7e3",
   "metadata": {},
   "source": [
    "1. Given an array, check if it contains any duplicates or not.\n",
    "arr = [1, 2, 4, 2, 5, 9]\n",
    "Output = True"
   ]
  },
  {
   "cell_type": "code",
   "execution_count": 1,
   "id": "b789ddfb-1b1c-4d3f-b6eb-2e2935ee0b99",
   "metadata": {},
   "outputs": [
    {
     "name": "stdout",
     "output_type": "stream",
     "text": [
      "True\n"
     ]
    }
   ],
   "source": [
    "def Arrduplicates(arr):\n",
    "    n = set()\n",
    "    for i in arr:\n",
    "        if i in n:\n",
    "            return True  # Found a duplicate\n",
    "        n.add(i)\n",
    "    return False  # No duplicates found\n",
    "\n",
    "arr = [1, 2, 4, 2, 5, 9]\n",
    "output = Arrduplicates(arr)\n",
    "print(output)\n"
   ]
  },
  {
   "cell_type": "markdown",
   "id": "6fa4844f-ba08-4d2d-ab6d-d19f31e66d5a",
   "metadata": {},
   "source": [
    "2. Given an array and an integer k, rotate the array to the right by k steps.\n",
    "arr = [1, 2, 3, 4, 5, 6, 7] k = 3\n",
    "Output = [5, 6, 7, 1, 2, 3, 4]"
   ]
  },
  {
   "cell_type": "code",
   "execution_count": 3,
   "id": "bc74d626-1157-4751-a5bb-09e058d6060c",
   "metadata": {},
   "outputs": [
    {
     "name": "stdout",
     "output_type": "stream",
     "text": [
      "[5, 6, 7, 1, 2, 3, 4]\n"
     ]
    }
   ],
   "source": [
    "def rotate_array(arr, k):\n",
    "    n = len(arr)\n",
    "\n",
    "    # Handle cases where k is greater than the array length\n",
    "    k = k % n\n",
    "\n",
    "    # Reverse the entire array\n",
    "    arr.reverse()\n",
    "\n",
    "    # Reverse the first k elements\n",
    "    arr[:k] = reversed(arr[:k])\n",
    "\n",
    "    # Reverse the remaining elements\n",
    "    arr[k:] = reversed(arr[k:])\n",
    "\n",
    "    return arr\n",
    "\n",
    "# Driver code \n",
    "arr = [1, 2, 3, 4, 5, 6, 7]\n",
    "k = 3\n",
    "result = rotate_array(arr, k)\n",
    "print(result)\n"
   ]
  },
  {
   "cell_type": "markdown",
   "id": "00c0465a-9560-4844-9064-1644a7197d23",
   "metadata": {},
   "source": [
    "3. Reverse the given array in-place, means without using any extra data structure.\n",
    "arr = [2, 4, 5, 7, 9, 12]\n",
    "Output = [12, 9, 7, 5, 4, 2]"
   ]
  },
  {
   "cell_type": "code",
   "execution_count": 5,
   "id": "91e6e256-9bff-4753-9d09-d6d330bb7949",
   "metadata": {},
   "outputs": [
    {
     "ename": "NameError",
     "evalue": "name 'revere_array_in_place' is not defined",
     "output_type": "error",
     "traceback": [
      "\u001b[0;31m---------------------------------------------------------------------------\u001b[0m",
      "\u001b[0;31mNameError\u001b[0m                                 Traceback (most recent call last)",
      "Cell \u001b[0;32mIn[5], line 10\u001b[0m\n\u001b[1;32m      8\u001b[0m \u001b[38;5;66;03m# driver code \u001b[39;00m\n\u001b[1;32m      9\u001b[0m arr \u001b[38;5;241m=\u001b[39m [\u001b[38;5;241m2\u001b[39m, \u001b[38;5;241m4\u001b[39m, \u001b[38;5;241m5\u001b[39m, \u001b[38;5;241m7\u001b[39m, \u001b[38;5;241m9\u001b[39m, \u001b[38;5;241m12\u001b[39m]\n\u001b[0;32m---> 10\u001b[0m \u001b[43mrevere_array_in_place\u001b[49m(arr)\n\u001b[1;32m     11\u001b[0m \u001b[38;5;28mprint\u001b[39m(arr)\n",
      "\u001b[0;31mNameError\u001b[0m: name 'revere_array_in_place' is not defined"
     ]
    }
   ],
   "source": [
    "def reverse_array_in_place(arr):\n",
    "    start, end = 0, len(arr)-1\n",
    "    while start < end:\n",
    "        arr[start],arr[end] = arr[end],arr[start]\n",
    "        \n",
    "        start+=1\n",
    "        end-=1\n",
    "# driver code \n",
    "arr = [2, 4, 5, 7, 9, 12]\n",
    "revere_array_in_place(arr)\n",
    "print(arr)"
   ]
  },
  {
   "cell_type": "markdown",
   "id": "83bbfadc-7257-4da9-bf97-989e95ebecfa",
   "metadata": {},
   "source": [
    "4. Given an array of integers, find the maximum element in an array\n",
    "arr = [10, 5, 20, 8, 15]\n",
    "Output = 20"
   ]
  },
  {
   "cell_type": "code",
   "execution_count": 6,
   "id": "1499a39b-7029-47ae-a8b9-09f854486fb4",
   "metadata": {},
   "outputs": [
    {
     "name": "stdout",
     "output_type": "stream",
     "text": [
      "20\n"
     ]
    }
   ],
   "source": [
    "def maximum_array(arr):\n",
    "    max_array = max(arr)\n",
    "    return max_array\n",
    "        \n",
    "# driver code \n",
    "arr = [10,5,20,8]\n",
    "result=maximum_array(arr)\n",
    "print(result)"
   ]
  },
  {
   "cell_type": "markdown",
   "id": "fbc9998a-9721-463a-b171-33acbe338f22",
   "metadata": {},
   "source": [
    "5. Given a sorted array, remove the duplicate element without using any extra data structure.\n",
    "arr = [1, 1, 2, 2, 2, 3, 3, 4, 4, 4, 5, 5]\n",
    "Output = [1, 2, 3, 4, 5]"
   ]
  },
  {
   "cell_type": "code",
   "execution_count": null,
   "id": "e9eaa3c1-3a10-4610-b235-8a4ec6cd30b8",
   "metadata": {},
   "outputs": [],
   "source": [
    "def remove_duplicates(arr):\n",
    "    if not arr:\n",
    "        return[]\n",
    "    \n",
    "    n= len(arr)\n",
    "    unique_index = 0\n",
    "    \n",
    "    for i in range(1,n):\n",
    "        if arr[i]!=arr[unique_index]:\n",
    "            unique_index+=1\n",
    "            arr[unique_index]=\n",
    "\n",
    "\n",
    "\n",
    "#driver code \n",
    "arr = [1,1,2,2,2,3,3,4,4,4,5,5,]"
   ]
  }
 ],
 "metadata": {
  "kernelspec": {
   "display_name": "Python 3 (ipykernel)",
   "language": "python",
   "name": "python3"
  },
  "language_info": {
   "codemirror_mode": {
    "name": "ipython",
    "version": 3
   },
   "file_extension": ".py",
   "mimetype": "text/x-python",
   "name": "python",
   "nbconvert_exporter": "python",
   "pygments_lexer": "ipython3",
   "version": "3.10.8"
  }
 },
 "nbformat": 4,
 "nbformat_minor": 5
}
