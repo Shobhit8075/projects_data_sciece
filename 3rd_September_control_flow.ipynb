{
 "cells": [
  {
   "cell_type": "markdown",
   "id": "ef8defd6-c61c-43bf-91a1-f59ab2df28e5",
   "metadata": {},
   "source": [
    "Basic if- else State,ents :"
   ]
  },
  {
   "cell_type": "code",
   "execution_count": 7,
   "id": "c2a8c627-96a7-4c1d-bf56-6ec5305fab30",
   "metadata": {},
   "outputs": [
    {
     "name": "stdin",
     "output_type": "stream",
     "text": [
      "enter a number  12\n"
     ]
    },
    {
     "name": "stdout",
     "output_type": "stream",
     "text": [
      "the number is positive \n"
     ]
    }
   ],
   "source": [
    "#1. write a program to check if a number is positive or negative\n",
    "a=int(input(\"enter a number \"))# to give massege\n",
    "if (a>0):# if statement\n",
    "    print(\"the number is positive \")\n",
    "elif a==0:#elif statement\n",
    "    print(\"the number is zero\")\n",
    "else:#else statement\n",
    "    print(\"the number is negative \")\n",
    "    "
   ]
  },
  {
   "cell_type": "code",
   "execution_count": null,
   "id": "150592ea-48bb-4806-8dcc-7afaabeb0be6",
   "metadata": {},
   "outputs": [
    {
     "name": "stdin",
     "output_type": "stream",
     "text": [
      "enter your age  18\n"
     ]
    },
    {
     "name": "stdout",
     "output_type": "stream",
     "text": [
      "you are eligible to vote \n"
     ]
    }
   ],
   "source": [
    "#2. Create a program that determines if a person is eligible to vote based on their age.\n",
    "a= a=int(input(\"enter your age \"))#to give message\n",
    "if (a>=18):# if statement\n",
    "    print(\"you are eligible to vote \")\n",
    "else:# else statement\n",
    "    print(\"you are not eligible to vote \")"
   ]
  },
  {
   "cell_type": "code",
   "execution_count": 8,
   "id": "f11eacaf-948a-4991-a771-7c490b22ebe5",
   "metadata": {},
   "outputs": [
    {
     "name": "stdin",
     "output_type": "stream",
     "text": [
      "Enter first number 45\n",
      "Enter Second number 56\n"
     ]
    },
    {
     "name": "stdout",
     "output_type": "stream",
     "text": [
      "56 Is grater \n"
     ]
    }
   ],
   "source": [
    "#3. Develop a program to find the maximum of two numbers using if-else statements.\n",
    "a=int(input(\"Enter first number\"))#to take input and give message \n",
    "b=int(input(\"Enter Second number\"))#to take input andgive message \n",
    "if (a>b):# if statement \n",
    "    print(a,\"Is greater \")\n",
    "else:# else statement\n",
    "    print(b,\"Is grater \")\n"
   ]
  },
  {
   "cell_type": "code",
   "execution_count": 11,
   "id": "2f6aa48b-c58b-4593-85b2-89b4d15a77a7",
   "metadata": {},
   "outputs": [
    {
     "name": "stdin",
     "output_type": "stream",
     "text": [
      "Enter the year 2002\n"
     ]
    },
    {
     "name": "stdout",
     "output_type": "stream",
     "text": [
      "The given year is a not a leap year\n"
     ]
    }
   ],
   "source": [
    "#4. Write a Python script to classify a given year as a leap year or not.\n",
    "a=int(input(\"Enter the year\"))#to take input and give message \n",
    "if ((a%4==0)):# if statement\n",
    "    print(\"The given year is a leap year\")\n",
    "else :# else statement\n",
    "    print(\"The given year is a not a leap year\")"
   ]
  },
  {
   "cell_type": "code",
   "execution_count": 58,
   "id": "fa83c62c-fba1-49ea-9835-caf387312cab",
   "metadata": {},
   "outputs": [
    {
     "name": "stdin",
     "output_type": "stream",
     "text": [
      "Enter the character which you want to check Z\n"
     ]
    },
    {
     "name": "stdout",
     "output_type": "stream",
     "text": [
      "The given character is consonant\n"
     ]
    }
   ],
   "source": [
    "#5. Create a program that checks whether a character is a vowel or a consonant.\n",
    "a= str(input(\"Enter the character which you want to check\"))#to take input and give message \n",
    "if (a=='a'or a=='e'or a=='i'or a=='o'or a=='u'or a=='A'or a=='E'or a=='I'or a=='O'or a=='U'):# if statement to check vowels \n",
    "            print(\"The given character is vowel\")\n",
    "elif a.isalpha()==True:# elif statement to check character\n",
    "    print(\"The given character is consonant\")\n",
    "else:# else statement\n",
    "    print(\"the given character is neithe vowel nor consonant\")"
   ]
  },
  {
   "cell_type": "code",
   "execution_count": 63,
   "id": "b6a86873-1928-4704-abec-4d0adb01dcbf",
   "metadata": {},
   "outputs": [
    {
     "name": "stdin",
     "output_type": "stream",
     "text": [
      "enter the number to check even or odd 00\n"
     ]
    },
    {
     "name": "stdout",
     "output_type": "stream",
     "text": [
      "the given number is even \n"
     ]
    }
   ],
   "source": [
    "#6. Implement a program to determine whether a given number is even or odd.\n",
    "a=int(input(\"enter the number to check even or odd\"))#to take input and give message \n",
    "if a%2==0:# if statement to check even \n",
    "    print(\"the given number is even \")\n",
    "else:# else statement to give result if the number is odd \n",
    "    print(\"the given number is odd\")# to give result\n",
    "      "
   ]
  },
  {
   "cell_type": "code",
   "execution_count": 65,
   "id": "77c80b91-d8a1-415a-b89e-37ee42e1b9f1",
   "metadata": {},
   "outputs": [
    {
     "name": "stdin",
     "output_type": "stream",
     "text": [
      "enter the number  2\n"
     ]
    },
    {
     "name": "stdout",
     "output_type": "stream",
     "text": [
      "2 is the absolute number\n"
     ]
    }
   ],
   "source": [
    "#7. Write a Python function to calculate the absolute value of a number without using the `abs()` function.\n",
    "a=int(input(\"enter the number \"))# to take input and give message to the user \n",
    "if a>0:# to check if the number is positive  \n",
    "    print(a,\"is the absolute number\")\n",
    "elif a<0: # to check if the number is negative\n",
    "    a=a*-1# to convert into postive\n",
    "    print(a,\"is the absolute number \")\n",
    "    \n",
    "      "
   ]
  },
  {
   "cell_type": "code",
   "execution_count": 1,
   "id": "65af5c83-b361-4ea9-a507-5a7fcf3df72d",
   "metadata": {},
   "outputs": [
    {
     "name": "stdin",
     "output_type": "stream",
     "text": [
      "enter the 1st number 12\n",
      "enter the 2nd number 25\n",
      "enter the 3rd number 32\n"
     ]
    },
    {
     "name": "stdout",
     "output_type": "stream",
     "text": [
      "32 is greater\n"
     ]
    }
   ],
   "source": [
    "#8. Develop a program that determines the largest of three given numbers using if-else statements.\n",
    "# input the 3 numbers \n",
    "a= int(input(\"enter the 1st number\"))\n",
    "b= int(input(\"enter the 2nd number\"))\n",
    "c= int(input(\"enter the 3rd number\"))\n",
    "# elif statement to check the greater number and print the result  \n",
    "if a>b and a>c:\n",
    "    print(a,\"is greater \")\n",
    "elif b>a and b>c:\n",
    "    print(b,\"is greater\")\n",
    "else:\n",
    "    print(c,\"is greater\")"
   ]
  },
  {
   "cell_type": "code",
   "execution_count": 2,
   "id": "d8df45df-f4a4-4352-a76f-71c62e525ddf",
   "metadata": {},
   "outputs": [
    {
     "name": "stdout",
     "output_type": "stream",
     "text": [
      "enter a string\n"
     ]
    },
    {
     "name": "stdin",
     "output_type": "stream",
     "text": [
      " samas\n"
     ]
    },
    {
     "name": "stdout",
     "output_type": "stream",
     "text": [
      "Yes it is palindrome\n"
     ]
    }
   ],
   "source": [
    "#9. Create a program that checks if a given string is a palindrome.\n",
    "print(\"enter a string\") # to show message\n",
    "s1=input()\n",
    "s2=s1[::-1] #to check \n",
    "\n",
    "if s1==s2:\n",
    "    print('Yes it is palindrome') # to print if yes \n",
    "else:\n",
    "    print('No it is not palindrome') # to print if no\n"
   ]
  },
  {
   "cell_type": "code",
   "execution_count": 4,
   "id": "3d0fa811-1f7d-4394-88c9-4ecdf20af984",
   "metadata": {},
   "outputs": [
    {
     "name": "stdin",
     "output_type": "stream",
     "text": [
      "enter your score out of 100 20\n"
     ]
    },
    {
     "name": "stdout",
     "output_type": "stream",
     "text": [
      "you are failed\n"
     ]
    }
   ],
   "source": [
    "#10. Write a Python program to calculate the grade based on a student's score.\n",
    "score = int(input(\"enter your score out of 100\"))\n",
    "# elif statements to check the scores and give the grade as their result\n",
    "if score >=90:\n",
    "    print(\"Congratulations excellent performence your score is A+\")\n",
    "elif score>=80:\n",
    "    print(\"excellent performence your score is A\")\n",
    "elif score>=70:\n",
    "    print(\"excellent performence your score is b\")\n",
    "elif score >=60:\n",
    "    print(\"you are pass with good marks \")\n",
    "elif score>=40:\n",
    "    print(\"your are pass\")\n",
    "else:\n",
    "          print(\"Sorry you are failed\")\n"
   ]
  },
  {
   "cell_type": "markdown",
   "id": "e89a8cf7-b6a8-4fe8-a976-aa7b4281d725",
   "metadata": {},
   "source": [
    "Nested if - else statements :"
   ]
  },
  {
   "cell_type": "code",
   "execution_count": 2,
   "id": "48d0e9b7-d510-4473-b86c-35c0188f9398",
   "metadata": {},
   "outputs": [
    {
     "name": "stdin",
     "output_type": "stream",
     "text": [
      "enter the 1st number 12\n",
      "enter the 2nd number 4\n",
      "enter the 3rd number 5\n"
     ]
    },
    {
     "name": "stdout",
     "output_type": "stream",
     "text": [
      "12 is greater\n"
     ]
    }
   ],
   "source": [
    "#11. Write a program to find the largest among three numbers using nested if-else statements.\n",
    "# to take three number from the user \n",
    "a= int(input(\"enter the 1st number\"))\n",
    "b= int(input(\"enter the 2nd number\"))\n",
    "c= int(input(\"enter the 3rd number\"))\n",
    "# to check the greatest number \n",
    "if a>b and a>c:\n",
    "    print(a,\"is greater\")\n",
    "elif b>a:\n",
    "    if b>c:\n",
    "        print(b,\"is greater\")\n",
    "else:\n",
    "    print(c,\"is greater\")"
   ]
  },
  {
   "cell_type": "code",
   "execution_count": 3,
   "id": "5711a7e5-1642-403f-b3e3-9c5233b95963",
   "metadata": {},
   "outputs": [
    {
     "name": "stdin",
     "output_type": "stream",
     "text": [
      "enter the length of 1st side 225\n",
      "enter the length of 2nd side 25\n",
      "enter the length of 3rd side 25\n"
     ]
    },
    {
     "name": "stdout",
     "output_type": "stream",
     "text": [
      "it is a isosceles triangle\n"
     ]
    }
   ],
   "source": [
    "#12. Implement a program to determine if a triangle is equilateral, isosceles, or scalene.\n",
    "# to take three side from the user to check triangle \n",
    "a= int(input(\"enter the length of 1st side\"))\n",
    "b= int(input(\"enter the length of 2nd side\"))\n",
    "c= int(input(\"enter the length of 3rd side\"))\n",
    "# if statement to check the type of triangle\n",
    "if a==b and a==c:\n",
    "    print(\"it is a equilateral triangle\")\n",
    "if (a==b and a!=c and b!=c) or (b==c and b!=a and c!=a) or (a==c and a!=b and c!=b):\n",
    "    print(\"it is a isosceles triangle\")\n",
    "else:\n",
    "    print(\"it is a scalene triangle\")"
   ]
  },
  {
   "cell_type": "code",
   "execution_count": null,
   "id": "bacf7724-0837-4d0e-9ef7-2abee47814ae",
   "metadata": {},
   "outputs": [],
   "source": [
    "#13. Develop a program that checks if a year is a leap year and also if it is a century year.\n",
    "a=int(input(\"enter year to check \"))# to print msg \n",
    "if y%4==0:# to check the condition \n",
    "    print(\"it is a leap year\"\n",
    "          if y%100==0:\n",
    "          print(\"it is also century year\")\n",
    "elif y%100==0:\n",
    "          print(\"it is only a century year\")\n",
    "          \n",
    "          \n",
    "          \n",
    "          \n",
    "      "
   ]
  },
  {
   "cell_type": "code",
   "execution_count": null,
   "id": "851a9ac3-399f-47fc-8c7f-3e63d44750c0",
   "metadata": {},
   "outputs": [],
   "source": [
    "#14. Write a Python script to determine if a number is positive, negative, or zero.\n",
    "a=int(input(\"enter a number \"))# to give mesage to take input \n",
    "if a>= 0:# to check the condition\n",
    "    if num == 0:\n",
    "        print(\"Zero\")\n",
    "    else:\n",
    "        print(\"Positive number\")\n",
    "else:\n",
    "    print(\"Negative number\")"
   ]
  },
  {
   "cell_type": "code",
   "execution_count": null,
   "id": "45440dc5-6ef2-4984-a44c-28509cb6a821",
   "metadata": {},
   "outputs": [],
   "source": [
    "#15. Create a program to check if a person is a teenager (between 13 and 19 years old).\n",
    "a=int(input(\"enter your age\"))# to give message to take input \n",
    "if a>12 and a<20:# to check the condition\n",
    "    print(\"your are teenager\")\n",
    "else:\n",
    "    print(\"your are not a teenager\")\n",
    "    "
   ]
  },
  {
   "cell_type": "code",
   "execution_count": null,
   "id": "f586808c-ecee-4cc9-9061-3bae8d68046a",
   "metadata": {},
   "outputs": [
    {
     "name": "stdin",
     "output_type": "stream",
     "text": [
      "enter the angle 752\n"
     ]
    }
   ],
   "source": [
    "#16. Develop a program that determines the type of angle based on its measure (acute, obtuse, or right\n",
    "a=int(input(\"enter the angle\")) # to give mesaage to take input \n",
    "# if statements to check and print the result \n",
    "if a>0 and a<90:\n",
    "    print(\"it is a acute angle\")\n",
    "if a==90:\n",
    "    print(\"it is a right angle\")\n",
    "if a>90 and a<180:\n",
    "    print(\"it is a obtuse angle \")\n",
    "if a==180:\n",
    "    print(\"it is a straight angle\")\n",
    "if a==0:\n",
    "    print(\"it is a Zero angle\")\n",
    "if a>180 and a<360:\n",
    "    print(\"it is a reflexive angle\")\n",
    "if a==360:\n",
    "    print(\"it is a complete angle \")\n",
    "    "
   ]
  },
  {
   "cell_type": "code",
   "execution_count": 17,
   "id": "da1be2e1-8966-4068-b9fc-4322fa2b3b82",
   "metadata": {},
   "outputs": [
    {
     "name": "stdin",
     "output_type": "stream",
     "text": [
      "Enter the coefficient a:  2\n",
      "Enter the coefficient b:  4\n",
      "Enter the coefficient c:  6\n"
     ]
    },
    {
     "name": "stdout",
     "output_type": "stream",
     "text": [
      "The roots are: (-1+1.4142135623730951j) and (-1-1.4142135623730951j)\n"
     ]
    }
   ],
   "source": [
    "#17. Write a Python program to calculate the roots of a quadratic equation.\n",
    "import math\n",
    "\n",
    "def calculate_quadratic_roots(a, b, c):\n",
    "   \n",
    "    discriminant = b**2 - 4*a*c  # Calculate the discriminant\n",
    "\n",
    "    # Check if the discriminant is positive, negative, or zero\n",
    "    if discriminant > 0:\n",
    "        # Two real and distinct roots\n",
    "        root1 = (-b + math.sqrt(discriminant)) / (2*a)\n",
    "        root2 = (-b - math.sqrt(discriminant)) / (2*a)\n",
    "        return root1, root2\n",
    "    elif discriminant == 0:\n",
    "        # One real root (repeated)\n",
    "        root1 = -b / (2*a)\n",
    "        return root1\n",
    "    else:\n",
    "        # Complex roots\n",
    "        real_part = -b / (2*a)\n",
    "        imaginary_part = math.sqrt(abs(discriminant)) / (2*a)\n",
    "        root1 = complex(real_part, imaginary_part)\n",
    "        root2 = complex(real_part, -imaginary_part)\n",
    "        return root1, root2\n",
    "\n",
    "# Input coefficients from the user\n",
    "a = float(input(\"Enter the coefficient a: \"))\n",
    "b = float(input(\"Enter the coefficient b: \"))\n",
    "c = float(input(\"Enter the coefficient c: \"))\n",
    "\n",
    "# Calculate and print the roots\n",
    "roots = calculate_quadratic_roots(a, b, c)\n",
    "if isinstance(roots, tuple):\n",
    "    print(f\"The roots are: {roots[0]} and {roots[1]}\")\n",
    "else:\n",
    "    print(f\"The root is: {roots}\")\n"
   ]
  },
  {
   "cell_type": "code",
   "execution_count": 10,
   "id": "8edf4143-6fa1-432f-aba6-66c2dfe34b77",
   "metadata": {},
   "outputs": [
    {
     "name": "stdin",
     "output_type": "stream",
     "text": [
      "enter a number between 1-7 53\n"
     ]
    }
   ],
   "source": [
    "#18. Implement a program to determine the day of the week based on a user-provided number (1 for Monday, 2for Tuesday, etc.).\n",
    "a=int(input(\"enter a number between 1-7 otherwise you will not get any result\"))# to give msg to input \n",
    "# if statement to check the condiitons\n",
    "if a==1:\n",
    "    print(\"Monday\")\n",
    "if a==2:\n",
    "    print(\"Tuesday\")\n",
    "if a==3:\n",
    "    print(\"Wednesday\")\n",
    "if a==4:\n",
    "    print(\"Thursday\")\n",
    "if a==5:\n",
    "    print(\"Friday\")\n",
    "if a==6:\n",
    "    print(\"Saturday\")\n",
    "if a==7:\n",
    "    print(\"Sunday\")\n",
    "    \n",
    "            "
   ]
  },
  {
   "cell_type": "code",
   "execution_count": 13,
   "id": "4a9431ab-e75f-400d-ac40-98306eaf5943",
   "metadata": {},
   "outputs": [
    {
     "name": "stdin",
     "output_type": "stream",
     "text": [
      "enter year to check  2025\n"
     ]
    },
    {
     "name": "stdout",
     "output_type": "stream",
     "text": [
      "this year is neither leap nor evenly divisible by 400\n"
     ]
    }
   ],
   "source": [
    "#19. Create a program that determines if a year is a leap year and also if it is evenly divisible by 400.\n",
    "y=int(input(\"enter year to check \"))# to give msg to input \n",
    "if y%4==0:# to check the condition \n",
    "    print(\"it is a leap year\")\n",
    "elif y%400==0:\n",
    "          print(\"yes this year is evenly divisible by 400\")\n",
    "else :\n",
    "    print(\"this year is neither leap nor evenly divisible by 400\")\n",
    "          "
   ]
  },
  {
   "cell_type": "code",
   "execution_count": 16,
   "id": "77e7b310-10a0-49d6-95c4-a0d23a47de92",
   "metadata": {},
   "outputs": [
    {
     "name": "stdin",
     "output_type": "stream",
     "text": [
      "Enter a number:  2\n"
     ]
    },
    {
     "name": "stdout",
     "output_type": "stream",
     "text": [
      "2 is a prime number.\n"
     ]
    }
   ],
   "source": [
    "#20. Develop a program that checks if a given number is prime or not using nested if-else statements.\n",
    "def is_prime(number):\n",
    "    # Check if the number is less than 2 (prime numbers are greater than 1)\n",
    "    if number < 2:\n",
    "        return False\n",
    "    \n",
    "    # Check for divisibility by numbers from 2 to the square root of the number\n",
    "    for i in range(2, int(number**0.5) + 1):\n",
    "        if number % i == 0:\n",
    "            return False\n",
    "    \n",
    "    # If the loop completes without finding a divisor, the number is prime\n",
    "    return True\n",
    "\n",
    "# Input from the user\n",
    "num = int(input(\"Enter a number: \"))\n",
    "\n",
    "# Check if the number is prime and print the result\n",
    "if is_prime(num):\n",
    "    print(f\"{num} is a prime number.\")\n",
    "else:\n",
    "    print(f\"{num} is not a prime number.\")\n",
    "\n",
    "      "
   ]
  },
  {
   "cell_type": "markdown",
   "id": "b1d38005-b714-49a8-ba69-4015f41ae1d1",
   "metadata": {},
   "source": [
    "Elif Statements "
   ]
  },
  {
   "cell_type": "code",
   "execution_count": null,
   "id": "4bc88b39-e934-411d-b5dc-49cf9777b2d0",
   "metadata": {},
   "outputs": [],
   "source": [
    "#21. Write a Python program to assign grades based on different ranges of scores using elif statements.\n",
    "score = int(input(\"enter your score out of 100\"))# to give msg to input the score of the students \n",
    "# if conditons to check and give the grade to the student\n",
    "if score >=90:\n",
    "    print(\"Congratulations excellent performence your score is A+\")\n",
    "elif score>=80:\n",
    "    print(\"excellent performence your score is A\")\n",
    "elif score>=70:\n",
    "    print(\"excellent performence your score is b\")\n",
    "elif score >=60:\n",
    "    print(\"you are pass with good marks \")\n",
    "elif score>=40:\n",
    "    print(\"your are pass\")\n",
    "else:\n",
    "          print(\"Sorry you are failed\")\n"
   ]
  },
  {
   "cell_type": "code",
   "execution_count": null,
   "id": "9a8f4d65-25c0-409f-a7e8-adb858a33ea4",
   "metadata": {},
   "outputs": [],
   "source": [
    "#22. Implement a program to determine the type of a triangle based on its angles.\n",
    "# Input angles in degrees\n",
    "angle1 = float(input(\"Enter the first angle in degrees: \"))\n",
    "angle2 = float(input(\"Enter the second angle in degrees: \"))\n",
    "angle3 = float(input(\"Enter the third angle in degrees: \"))\n",
    "\n",
    "# Check if the angles form a valid triangle (sum of angles should be 180 degrees)\n",
    "if angle1 + angle2 + angle3 == 180:\n",
    "    # Check for different types of triangles based on angles\n",
    "    if angle1 < 90 and angle2 < 90 and angle3 < 90:\n",
    "        print(\"It is an acute triangle.\")\n",
    "    elif angle1 == 90 or angle2 == 90 or angle3 == 90:\n",
    "        print(\"It is a right triangle.\")\n",
    "    else:\n",
    "        print(\"It is an obtuse triangle.\")\n",
    "else:\n",
    "    print(\"The angles do not form a valid triangle (sum of angles should be 180 degrees).\")\n"
   ]
  },
  {
   "cell_type": "code",
   "execution_count": null,
   "id": "fc544dac-1dd2-4663-a93b-618f15072b6b",
   "metadata": {},
   "outputs": [],
   "source": [
    "#23. Develop a program to categorize a given person's BMI into underweight, normal, overweight, or obese using elif statements.\n",
    "# to take input of height and weight of the person\n",
    "a=int(input(\"enter your hight \"))\n",
    "b=int(input(\"enter your weight \"))\n",
    "x = b/float(a*a);\n",
    "if x < 18.5:\n",
    "    print('Underweight')\n",
    "if x>=18.5 and x<25:\n",
    "    print(\"Normal\")\n",
    "if x >= 25 and x < 30:\n",
    "    print('Overweight')\n",
    "if x >= 30:\n",
    "    print('Obesity')\n",
    "\n",
    "      "
   ]
  },
  {
   "cell_type": "code",
   "execution_count": null,
   "id": "93a8c7b8-01aa-422d-8a96-a2a540eb5405",
   "metadata": {},
   "outputs": [],
   "source": [
    "#24. Create a program that determines whether a given number is positive, negative, or zero using elif statements.\n",
    "a=int(input(\"enter a number \"))# to take input from the user \n",
    "if a>0:\n",
    "    print(\"it is a positive mumber\")\n",
    "elif a<0:\n",
    "    print(\"it is a negative number\")\n",
    "else:\n",
    "    print(\"it is Zero\")"
   ]
  },
  {
   "cell_type": "code",
   "execution_count": 4,
   "id": "ee5f3e3e-bf63-4c3b-be3d-526f4bd5acfb",
   "metadata": {},
   "outputs": [
    {
     "name": "stdin",
     "output_type": "stream",
     "text": [
      "enter the character #\n"
     ]
    },
    {
     "name": "stdout",
     "output_type": "stream",
     "text": [
      "It is a  Special character\n"
     ]
    }
   ],
   "source": [
    "#25. Write a Python script to determine the type of a character (uppercase, lowercase, or special) using elif statements.\n",
    "a=str(input(\"enter the character\"))\n",
    "if a.isalpha()==True:\n",
    "    \n",
    "    if a.isupper()==True:\n",
    "        print(\"It is uppercase\")\n",
    "    elif a.islower()==True:\n",
    "        print(\"It is in lowercase\")\n",
    "elif a.isdigit()==True:\n",
    "    print(\"It is a digit\")\n",
    "else:\n",
    "    print(\"It is a  Special character\")\n",
    "    "
   ]
  },
  {
   "cell_type": "code",
   "execution_count": null,
   "id": "0296f1c7-7026-49fa-bcdf-e49b20133ecc",
   "metadata": {},
   "outputs": [],
   "source": [
    "#26. Implement a program to calculate the discounted price based on different purchase amounts using elif statements.\n",
    "a= int(input(\"enter the marked price of the product\"))\n",
    "if a>=1000 and a<2000:\n",
    "    print(\"yes you are eligible for dicount of 10% on the product\")\n",
    "    p=a-((a*10)/100)\n",
    "    print(\"your discounted price :=\",p)\n",
    "elif a>=2000 and a<3000:\n",
    "    print(\"yes you are eligible for dicount of 20% on the product\")\n",
    "    p=a-((a*20)/100)\n",
    "    print(\"your discounted price :=\",p)\n",
    "elif a>=3000 and a<4000:\n",
    "    print(\"yes you are eligible for dicount of 40% on the product\")\n",
    "    p=a-((a*40)/100)\n",
    "    print(\"your discounted price :=\",p)\n",
    "elif a>=4000:\n",
    "    print(\"yes you are eligible for dicount of 50% on the product\")\n",
    "    p=a-((a*50)/100)\n",
    "    print(\"your discounted price :=\",p)\n",
    "else :\n",
    "    print(\"Sorry your are not eligible for dicount \") \n",
    "    "
   ]
  },
  {
   "cell_type": "code",
   "execution_count": 4,
   "id": "3da81093-e8da-4271-938c-766bfe7b75c6",
   "metadata": {},
   "outputs": [
    {
     "name": "stdin",
     "output_type": "stream",
     "text": [
      "enter the name of the consumer shobit\n",
      "enter the consumer number  fdgh651\n",
      "enter the no of units used by the consumer  5\n"
     ]
    },
    {
     "name": "stdout",
     "output_type": "stream",
     "text": [
      "Consumer name        :- shobit\n",
      "Consumer number      :- fdgh651\n",
      "units consumed       :- 5\n",
      "total payable amount :- 25\n"
     ]
    }
   ],
   "source": [
    "#27. Develop a program to calculate the electricity bill based on different consumption slabs using elif statements.\n",
    "s = str(input(\"enter the name of the consumer\"))\n",
    "b = input(\"enter the consumer number \")\n",
    "c= int(input(\"enter the no of units used by the consumer \"))\n",
    "if c>0 and c<=100:\n",
    "    e=c*5\n",
    "elif c>100 and c<=200:\n",
    "    e= c*6\n",
    "elif c>200 and c<=300:\n",
    "    e= c*7\n",
    "elif c>400 :\n",
    "    e= c*8\n",
    "else :\n",
    "    print(\"enter the correct unit\")\n",
    "print(\"Consumer name        :-\",s)\n",
    "print(\"Consumer number      :-\",b)\n",
    "print(\"units consumed       :-\",c)\n",
    "print(\"total payable amount :-\",e)\n",
    "    \n",
    "\n",
    "\n"
   ]
  },
  {
   "cell_type": "code",
   "execution_count": 5,
   "id": "5a4e8068-1f7e-45f6-b838-e415e4e99bb6",
   "metadata": {},
   "outputs": [
    {
     "name": "stdin",
     "output_type": "stream",
     "text": [
      "Enter the first angle in degrees:  23\n",
      "Enter the second angle in degrees:  25\n",
      "Enter the third angle in degrees:  12\n",
      "Enter the fourth angle in degrees:  23\n",
      "Enter the length of the first side:  12\n",
      "Enter the length of the second side:  23\n",
      "Enter the length of the third side:  45\n",
      "Enter the length of the fourth side:  65\n"
     ]
    },
    {
     "name": "stdout",
     "output_type": "stream",
     "text": [
      "It is not a quadrilateral because the sum of angles is not 360 degrees.\n"
     ]
    }
   ],
   "source": [
    "#28. Create a program to determine the type of quadrilateral based on its angles and sides using elif statements\n",
    "# Input angles in degrees\n",
    "a1 = float(input(\"Enter the first angle in degrees: \"))\n",
    "a2 = float(input(\"Enter the second angle in degrees: \"))\n",
    "a3 = float(input(\"Enter the third angle in degrees: \"))\n",
    "a4 = float(input(\"Enter the fourth angle in degrees: \"))\n",
    "\n",
    "# Input side lengths\n",
    "s1 = float(input(\"Enter the length of the first side: \"))\n",
    "s2 = float(input(\"Enter the length of the second side: \"))\n",
    "s3 = float(input(\"Enter the length of the third side: \"))\n",
    "s4 = float(input(\"Enter the length of the fourth side: \"))\n",
    "\n",
    "# Check for a quadrilateral based on angles\n",
    "if a1 + a2 + a3 + a4 == 360:\n",
    "    \n",
    "    # Check for different types of quadrilaterals based on angles and sides\n",
    "    if s1 == s2 == s3 == s4:\n",
    "        print(\"It is a square.\")\n",
    "    elif s1 == s3 and s2 == s4:\n",
    "        print(\"It is a rectangle.\")\n",
    "    elif s1 == s2 == s3 != s4 or s1 != s2 == s3 == s4:\n",
    "        print(\"It is a rhombus.\")\n",
    "    elif s1 == s2 and s3 == s4:\n",
    "        print(\"It is a parallelogram.\")\n",
    "    else:\n",
    "        print(\"It is a general quadrilateral.\")\n",
    "else:\n",
    "    print(\"It is not a quadrilateral because the sum of angles is not 360 degrees.\")\n"
   ]
  },
  {
   "cell_type": "code",
   "execution_count": null,
   "id": "1d6800e4-173d-4473-be2d-e4abc376a27d",
   "metadata": {},
   "outputs": [],
   "source": [
    "#29. Write a Python script to determine the season based on a user-provided month using elif statements.\n",
    "a= str(input(\"enter the month name \"))\n",
    "a=a.toupper()\n",
    "if a==\"DECEMBER\" or a==\"JANUARY\" or a==\"NOVEMBER\":\n",
    "    print(a,\"It is a Winter Season\")\n",
    "elif a==\"MARCH\" or a==\"APRIL\" or a\"FEBUARY\":\n",
    "    print(a,\"It is a Spring Season\")\n",
    "elif a==\"MAY\" or a==\"JUNE\" or a==\"JULY\":\n",
    "    print(a, \"It is a Summer Season\")\n",
    "elif a==\"AUGUST\" or a==\"SEPTEMBER\" or a==\"OCTOBER\":\n",
    "    print(a,\"It is a Rainy Season\")\n",
    "else:\n",
    "    print(\"it a valid month name\")\n",
    "    "
   ]
  },
  {
   "cell_type": "code",
   "execution_count": 2,
   "id": "aa03ded3-957d-449d-8d0c-d71295180c2d",
   "metadata": {},
   "outputs": [
    {
     "name": "stdin",
     "output_type": "stream",
     "text": [
      "enter the year 2025\n",
      "enter the month name  may\n"
     ]
    },
    {
     "name": "stdout",
     "output_type": "stream",
     "text": [
      "The given year: 2025 is a common year and given month: MAY is a of 31 days \n"
     ]
    }
   ],
   "source": [
    "#30. Implement a program to determine the type of a year (leap or common) and month (30 or 31 days) using elif statements.\n",
    "a=int(input(\"enter the year\"))\n",
    "if a%4==0:\n",
    "    c=str(input(\"enter the month name \"))\n",
    "    b=c.upper()\n",
    "    if b==\"JANUARY\" or b==\"MARCH\" or b==\"MAY\" or \"JULY\" or \"AUGUST\" or \"OCTOBER\" or \"DECEMBER\":\n",
    "        print(\"The given year:\",a,\"is a leap year and given month:\",b,\"is a of 31 days \")\n",
    "    elif b==\"APRIL\" or b==\"JUNE\" or b==\"SEPTEMBER\" or \"NOVEMBER\":\n",
    "        print(\"The given year:\",a,\"is a leap year and given month:\",b,\"is a of 30 days \")\n",
    "    \n",
    "    elif b==\"FEBUARY\":\n",
    "        print(\"The given year:\",a,\"is a leap year and given month:\",b,\"is a of 29 days \")\n",
    "    else:\n",
    "        print(\"enter a valid month name \")\n",
    "elif a%4!=0:\n",
    "    c=str(input(\"enter the month name \"))\n",
    "    b=c.upper()\n",
    "    if b==\"JANUARY\" or b==\"MARCH\" or b==\"MAY\" or \"JULY\" or \"AUGUST\" or \"OCTOBER\" or \"DECEMBER\":\n",
    "        print(\"The given year:\",a,\"is a common year and given month:\",b,\"is a of 31 days \")\n",
    "    elif b==\"APRIL\" or b==\"JUNE\" or b==\"SEPTEMBER\" or \"NOVEMBER\":\n",
    "        print(\"The given year:\",a,\"is a common year and given month:\",b,\"is a of 30 days \")\n",
    "    \n",
    "    elif b==\"FEBUARY\":\n",
    "        print(\"The given year:\",a,\"is a common year and given month:\",b,\"is a of 28 days \")\n",
    "    else:\n",
    "        print(\"enter a valid month name \")\n",
    "    \n",
    "    "
   ]
  },
  {
   "cell_type": "markdown",
   "id": "61316657-59ed-47cf-8ec5-3be878145619",
   "metadata": {},
   "source": [
    "Basic Level:"
   ]
  },
  {
   "cell_type": "code",
   "execution_count": 1,
   "id": "c98dfb02-e5ee-4589-adb2-cb47458c1ca7",
   "metadata": {},
   "outputs": [],
   "source": [
    "#1. Write a Python program that checks if a given number is positive, negative, or zero.\n",
    "a=int(input(\"enter a number \"))# to give massege\n",
    "if (a>0):# if statement\n",
    "    print(\"the number is positive \")\n",
    "elif a==0:#elif statement\n",
    "    print(\"the number is zero\")\n",
    "else:#else statement\n",
    "    print(\"the number is negative \")\n",
    "    "
   ]
  },
  {
   "cell_type": "code",
   "execution_count": null,
   "id": "db4db47c-f628-4031-8916-98b819f0e07f",
   "metadata": {},
   "outputs": [],
   "source": [
    "#2. Create a program that determines if a person is eligible to vote based on their age.\n",
    "a= a=int(input(\"enter your age \"))#to give message\n",
    "if (a>=18):# if statement\n",
    "    print(\"you are eligible to vote \")\n",
    "else:# else statement\n",
    "    print(\"you are not eligible to vote \")"
   ]
  },
  {
   "cell_type": "code",
   "execution_count": null,
   "id": "ed4ea67f-2214-4463-af68-d27696528b2d",
   "metadata": {},
   "outputs": [],
   "source": [
    "#3. Develop a program to find the maximum of two numbers using if-else statements.\n",
    "a=int(input(\"Enter first number\"))#to take input andgive message \n",
    "b=int(input(\"Enter Second number\"))#to take input andgive message \n",
    "if (a>b):# if statement \n",
    "    print(a,\"Is greater \")\n",
    "else:# else statement\n",
    "    print(b,\"Is grater \")\n"
   ]
  },
  {
   "cell_type": "code",
   "execution_count": null,
   "id": "2e34ea54-bf14-43f4-a5e1-22ac4404f79c",
   "metadata": {},
   "outputs": [],
   "source": [
    "#4. Develop a program that calculates the grade of a student based on their exam score.\n",
    "score = int(input(\"enter your score out of 100\"))\n",
    "# elif statements to check the scores and give the grade as their result\n",
    "if score >=90:\n",
    "    print(\"Congratulations excellent performence your score is A+\")\n",
    "elif score>=80:\n",
    "    print(\"excellent performence your score is A\")\n",
    "elif score>=70:\n",
    "    print(\"excellent performence your score is b\")\n",
    "elif score >=60:\n",
    "    print(\"you are pass with good marks \")\n",
    "elif score>=40:\n",
    "    print(\"your are pass\")\n",
    "else:\n",
    "          print(\"Sorry you are failed\")\n"
   ]
  },
  {
   "cell_type": "code",
   "execution_count": null,
   "id": "c09b6a72-eaa5-4861-8c22-ad3e47cf1a14",
   "metadata": {},
   "outputs": [],
   "source": [
    "#5. Create a program that checks if a year is a leap year or not.\n",
    "a=int(input(\"Enter the year\"))#to take input and give message \n",
    "if ((a%4==0)):# if statement\n",
    "    print(\"The given year is a leap year\")\n",
    "else :# else statement\n",
    "    print(\"The given year is a not a leap year\")"
   ]
  },
  {
   "cell_type": "code",
   "execution_count": null,
   "id": "fb689dfa-cb7f-4c1c-b40a-46201bb480c7",
   "metadata": {},
   "outputs": [],
   "source": [
    "#6. Write a program to classify a triangle based on its sides' lengths.\n",
    "a= int(input(\"enter the length of 1st side\"))\n",
    "b= int(input(\"enter the length of 2nd side\"))\n",
    "c= int(input(\"enter the length of 3rd side\"))\n",
    "# if statement to check the type of triangle\n",
    "if a==b and a==c:\n",
    "    print(\"it is a equilateral triangle\")\n",
    "if (a==b and a!=c and b!=c) or (b==c and b!=a and c!=a) or (a==c and a!=b and c!=b):\n",
    "    print(\"it is a isosceles triangle\")\n",
    "else:\n",
    "    print(\"it is a scalene triangle\")\n",
    "        "
   ]
  },
  {
   "cell_type": "code",
   "execution_count": 5,
   "id": "f6524f67-5265-4668-8feb-630d36cfefe6",
   "metadata": {},
   "outputs": [
    {
     "name": "stdin",
     "output_type": "stream",
     "text": [
      "Enter the 1st number  32\n",
      "Enter the 2nd number 95\n",
      "Enter the 3rd number  102\n"
     ]
    },
    {
     "name": "stdout",
     "output_type": "stream",
     "text": [
      " 102 is greater \n"
     ]
    }
   ],
   "source": [
    "#7. Build a program that determines the largest of three given numbers.\n",
    "a = int(input(\"Enter the 1st number \"))\n",
    "b = int(input(\"Enter the 2nd number\"))\n",
    "c = int(input(\"Enter the 3rd number \"))\n",
    "if a>b and a>c:\n",
    "    print(f\" {a} is greater \")\n",
    "elif b>a and b>c:\n",
    "    print(f\" {b} is greater \")\n",
    "else:\n",
    "    print(f\" {c} is greater \")\n",
    "    "
   ]
  },
  {
   "cell_type": "code",
   "execution_count": null,
   "id": "8b687064-2437-477e-aa2f-3c7a0407f851",
   "metadata": {},
   "outputs": [],
   "source": [
    "#8. Develop a program that checks whether a character is a vowel or a consonant.\n",
    "a= str(input(\"Enter the character which you want to check\"))#to take input and give message \n",
    "if (a=='a'or a=='e'or a=='i'or a=='o'or a=='u'or a=='A'or a=='E'or a=='I'or a=='O'or a=='U'):# if statement to check vowels \n",
    "            print(\"The given character is vowel\")\n",
    "elif a.isalpha()==True:# elif statement to check character\n",
    "    print(\"The given character is consonant\")\n",
    "else:# else statement\n",
    "    print(\"the given character is neithe vowel nor consonant\")"
   ]
  },
  {
   "cell_type": "code",
   "execution_count": null,
   "id": "7286cecc-a1ea-4bf0-aff4-4a8056443967",
   "metadata": {},
   "outputs": [],
   "source": [
    "#9. Create a program to calculate the total cost of a shopping cart based on discounts.\n",
    "a= int(input(\"enter the marked price of the product\"))\n",
    "if a>=1000 and a<2000:\n",
    "    print(\"yes you are eligible for dicount of 10% on the product\")\n",
    "    p=a-((a*10)/100)\n",
    "    print(\"your discounted price :=\",p)\n",
    "elif a>=2000 and a<3000:\n",
    "    print(\"yes you are eligible for dicount of 20% on the product\")\n",
    "    p=a-((a*20)/100)\n",
    "    print(\"your discounted price :=\",p)\n",
    "elif a>=3000 and a<4000:\n",
    "    print(\"yes you are eligible for dicount of 40% on the product\")\n",
    "    p=a-((a*40)/100)\n",
    "    print(\"your discounted price :=\",p)\n",
    "elif a>=4000:\n",
    "    print(\"yes you are eligible for dicount of 50% on the product\")\n",
    "    p=a-((a*50)/100)\n",
    "    print(\"your discounted price :=\",p)\n",
    "else :\n",
    "    print(\"Sorry your are not eligible for dicount \") \n",
    "    "
   ]
  },
  {
   "cell_type": "code",
   "execution_count": 2,
   "id": "33e04259-82b1-4816-89e0-2275bdf9f58a",
   "metadata": {},
   "outputs": [
    {
     "name": "stdin",
     "output_type": "stream",
     "text": [
      "Enter the First Number 5\n"
     ]
    },
    {
     "name": "stdout",
     "output_type": "stream",
     "text": [
      "The given Number 5 is Odd\n"
     ]
    }
   ],
   "source": [
    "#10. Write a program that checks if a given number is even or odd.\n",
    "a = int(input(\"Enter the First Number\"))\n",
    "if a%2==0:\n",
    "    print(f\" The given Number {a} is Even\")\n",
    "else :\n",
    "    print(f\"The given Number {a} is Odd\")\n"
   ]
  },
  {
   "cell_type": "markdown",
   "id": "376b55f6-3c2b-4cb4-b408-ca2c0d2254ec",
   "metadata": {},
   "source": [
    "Intermediate Level:\n"
   ]
  },
  {
   "cell_type": "code",
   "execution_count": 6,
   "id": "7cd1e9ed-d30c-4455-919a-c1d1f16a206e",
   "metadata": {},
   "outputs": [],
   "source": [
    "#11. Write a program that calculates the roots of a quadratic equation .\n",
    "import math\n",
    "\n",
    "def calculate_quadratic_roots(a, b, c):\n",
    "   \n",
    "    discriminant = b**2 - 4*a*c  # Calculate the discriminant\n",
    "\n",
    "    # Check if the discriminant is positive, negative, or zero\n",
    "    if discriminant > 0:\n",
    "        # Two real and distinct roots\n",
    "        root1 = (-b + math.sqrt(discriminant)) / (2*a)\n",
    "        root2 = (-b - math.sqrt(discriminant)) / (2*a)\n",
    "        return root1, root2\n",
    "    elif discriminant == 0:\n",
    "        # One real root (repeated)\n",
    "        root1 = -b / (2*a)\n",
    "        return root1\n",
    "    else:\n",
    "        # Complex roots\n",
    "        real_part = -b / (2*a)\n",
    "        imaginary_part = math.sqrt(abs(discriminant)) / (2*a)\n",
    "        root1 = complex(real_part, imaginary_part)\n",
    "        root2 = complex(real_part, -imaginary_part)\n",
    "        return root1, root2\n",
    "\n",
    "# Input coefficients from the user\n",
    "a = float(input(\"Enter the coefficient a: \"))\n",
    "b = float(input(\"Enter the coefficient b: \"))\n",
    "c = float(input(\"Enter the coefficient c: \"))\n",
    "\n",
    "# Calculate and print the roots\n",
    "roots = calculate_quadratic_roots(a, b, c)\n",
    "if isinstance(roots, tuple):\n",
    "    print(f\"The roots are: {roots[0]} and {roots[1]}\")\n",
    "else:\n",
    "    print(f\"The root is: {roots}\")\n"
   ]
  },
  {
   "cell_type": "code",
   "execution_count": 7,
   "id": "994ef14c-806a-4612-aae7-431ef3b7916b",
   "metadata": {},
   "outputs": [],
   "source": [
    "#12. Create a program that determines the day of the week based on the day number (1-7).\n",
    "a=int(input(\"enter a number between 1-7 otherwise you will not get any result\"))# to give msg to input \n",
    "# if statement to check the condiitons\n",
    "if a==1:\n",
    "    print(\"Monday\")\n",
    "if a==2:\n",
    "    print(\"Tuesday\")\n",
    "if a==3:\n",
    "    print(\"Wednesday\")\n",
    "if a==4:\n",
    "    print(\"Thursday\")\n",
    "if a==5:\n",
    "    print(\"Friday\")\n",
    "if a==6:\n",
    "    print(\"Saturday\")\n",
    "if a==7:\n",
    "    print(\"Sunday\")\n",
    "    \n",
    "            "
   ]
  },
  {
   "cell_type": "code",
   "execution_count": 8,
   "id": "1d8cba37-1d69-4a9d-8ec2-420621ea26b6",
   "metadata": {},
   "outputs": [],
   "source": [
    "#13. Develop a program that calculates the factorial of a given number using recursion.\n",
    "def factorial(n):\n",
    "    if n == 0:\n",
    "        return 1\n",
    "    else:\n",
    "        return n * factorial(n - 1)\n",
    "\n",
    "# Input from the user\n",
    "num = int(input(\"Enter a number:\"))\n",
    "\n",
    "if num < 0:\n",
    "    print(\"Factorial is not defined for negative numbers.\")\n",
    "else:\n",
    "    result = factorial(num)\n",
    "    print(f\"The factorial of {num} is {result}\")\n"
   ]
  },
  {
   "cell_type": "code",
   "execution_count": null,
   "id": "d4a67756-d003-4546-9cd3-f2957e9392f6",
   "metadata": {},
   "outputs": [],
   "source": [
    "#14. Write a program to find the largest among three numbers without using the `max()` function.\n",
    "a = int(input(\"Enter the 1st number \"))\n",
    "b = int(input(\"Enter the 2nd number\"))\n",
    "c = int(input(\"Enter the 3rd number \"))\n",
    "if a>b and a>c:\n",
    "    print(f\" {a} is greater \")\n",
    "elif b>a and b>c:\n",
    "    print(f\" {b} is greater \")\n",
    "else:\n",
    "    print(f\" {c} is greater \")\n",
    "    "
   ]
  },
  {
   "cell_type": "code",
   "execution_count": 9,
   "id": "74a7f112-fc48-4a6e-99bc-9d33fd4ec671",
   "metadata": {},
   "outputs": [],
   "source": [
    "#15. Create a program that simulates a basic ATM transaction menu.\n",
    "class ATM:\n",
    "    def __init__(self, balance=1000):\n",
    "        self.balance = balance\n",
    "\n",
    "    def display_menu(self):\n",
    "        print(\"\\n===== ATM Menu =====\")\n",
    "        print(\"1. Check Balance\")\n",
    "        print(\"2. Withdraw Money\")\n",
    "        print(\"3. Deposit Money\")\n",
    "        print(\"4. Exit\")\n",
    "    \n",
    "    def check_balance(self):\n",
    "        print(f\"Your balance is ${self.balance}\")\n",
    "\n",
    "    def withdraw_money(self, amount):\n",
    "        if amount > 0 and amount <= self.balance:\n",
    "            self.balance -= amount\n",
    "            print(f\"Withdrawal successful. Remaining balance: ${self.balance}\")\n",
    "        else:\n",
    "            print(\"Invalid amount or insufficient funds.\")\n",
    "\n",
    "    def deposit_money(self, amount):\n",
    "        if amount > 0:\n",
    "            self.balance += amount\n",
    "            print(f\"Deposit successful. New balance: ${self.balance}\")\n",
    "        else:\n",
    "            print(\"Invalid amount.\")\n",
    "\n",
    "def main():\n",
    "    atm = ATM()\n",
    "\n",
    "    while True:\n",
    "        atm.display_menu()\n",
    "\n",
    "        choice = input(\"Enter your choice (1-4): \")\n",
    "\n",
    "        if choice == '1':\n",
    "            atm.check_balance()\n",
    "        elif choice == '2':\n",
    "            amount = float(input(\"Enter the amount to withdraw: $\"))\n",
    "            atm.withdraw_money(amount)\n",
    "        elif choice == '3':\n",
    "            amount = float(input(\"Enter the amount to deposit: $\"))\n",
    "            atm.deposit_money(amount)\n",
    "        elif choice == '4':\n",
    "            print(\"Exiting the ATM. Thank you!\")\n",
    "            break\n",
    "        else:\n",
    "            print(\"Invalid choice. Please enter a number between 1 and 4.\")\n",
    "\n",
    "if __name__ == \"__main__\":\n",
    "    main()\n",
    "\n"
   ]
  },
  {
   "cell_type": "code",
   "execution_count": null,
   "id": "42bb5a1c-b1d3-4989-946d-0b99df67826e",
   "metadata": {},
   "outputs": [],
   "source": [
    "#16. Build a program that checks if a given string is a palindrome or not.\n",
    "print(\"enter a string\") # to show message\n",
    "s1=input()\n",
    "s2=s1[::-1] #to check \n",
    "\n",
    "if s1==s2:\n",
    "    print('Yes it is palindrome') # to print if yes \n",
    "else:\n",
    "    print('No it is not palindrome') # to print if no\n"
   ]
  },
  {
   "cell_type": "code",
   "execution_count": null,
   "id": "f0091e2b-e60a-424d-8569-c54b9ad8e253",
   "metadata": {},
   "outputs": [],
   "source": [
    "#17. Write a program that calculates the average of a list of numbers, excluding the smallest and largest values.\n",
    "def calculate_average(numbers):\n",
    "    if len(numbers) < 3:\n",
    "        print(\"List must have at least three elements.\")\n",
    "        return\n",
    "\n",
    "    # Exclude the smallest and largest values\n",
    "    numbers.sort()\n",
    "    excluded_numbers = numbers[1:-1]\n",
    "\n",
    "    # Calculate the average\n",
    "    average = sum(excluded_numbers) / len(excluded_numbers)\n",
    "    return average\n",
    "\n",
    "def main():\n",
    "    try:\n",
    "        # Get input from the user\n",
    "        input_str = input(\"Enter a list of numbers separated by spaces: \")\n",
    "        numbers = [float(x) for x in input_str.split()]\n",
    "\n",
    "        # Calculate and display the result\n",
    "        result = calculate_average(numbers)\n",
    "        print(f\"The average (excluding the smallest and largest values) is: {result}\")\n",
    "    except ValueError:\n",
    "        print(\"Invalid input. Please enter valid numbers separated by spaces.\")\n",
    "\n",
    "if __name__ == \"__main__\":\n",
    "    main()\n"
   ]
  },
  {
   "cell_type": "code",
   "execution_count": null,
   "id": "3ff6ebe6-a68b-4b86-8ae3-7e564b6a36b8",
   "metadata": {},
   "outputs": [],
   "source": [
    "#18. Develop a program that converts a given temperature from Celsius to Fahrenheit.\n",
    "def celsius_to_fahrenheit(celsius):\n",
    "    # Formula to convert Celsius to Fahrenheit: F = (C * 9/5) + 32\n",
    "    fahrenheit = (celsius * 9/5) + 32\n",
    "    return fahrenheit\n",
    "\n",
    "def main():\n",
    "    try:\n",
    "        # Get input from the user\n",
    "        celsius = float(input(\"Enter temperature in Celsius: \"))\n",
    "\n",
    "        # Convert Celsius to Fahrenheit\n",
    "        fahrenheit = celsius_to_fahrenheit(celsius)\n",
    "\n",
    "        # Display the result\n",
    "        print(f\"{celsius} degrees Celsius is equal to {fahrenheit:.2f} degrees Fahrenheit.\")\n",
    "    except ValueError:\n",
    "        print(\"Invalid input. Please enter a valid temperature in Celsius.\")\n",
    "\n",
    "if __name__ == \"__main__\":\n",
    "    main()\n"
   ]
  },
  {
   "cell_type": "code",
   "execution_count": null,
   "id": "9936b306-33cf-4e74-a52d-cbaaeecd167d",
   "metadata": {},
   "outputs": [],
   "source": [
    "#19. Create a program that simulates a basic calculator for addition, subtraction, multiplication, and division.def calculate_average(numbers):\n",
    "    if len(numbers) < 3:\n",
    "        print(\"List must have at least three elements.\")\n",
    "        return\n",
    "\n",
    "    # Exclude the smallest and largest values\n",
    "    numbers.sort()\n",
    "    excluded_numbers = numbers[1:-1]\n",
    "\n",
    "    # Calculate the average\n",
    "    average = sum(excluded_numbers) / len(excluded_numbers)\n",
    "    return average\n",
    "\n",
    "def main():\n",
    "    try:\n",
    "        # Get input from the user\n",
    "        input_str = input(\"Enter a list of numbers separated by spaces: \")\n",
    "        numbers = [float(x) for x in input_str.split()]\n",
    "\n",
    "        # Calculate and display the result\n",
    "        result = calculate_average(numbers)\n",
    "        print(f\"The average (excluding the smallest and largest values) is: {result}\")\n",
    "    except ValueError:\n",
    "        print(\"Invalid input. Please enter valid numbers separated by spaces.\")\n",
    "\n",
    "if __name__ == \"__main__\":\n",
    "    main()\n",
    "\n",
    "def calculate_average(numbers):\n",
    "    if len(numbers) < 3:\n",
    "        print(\"List must have at least three elements.\")\n",
    "        return\n",
    "\n",
    "    # Exclude the smallest and largest values\n",
    "    numbers.sort()\n",
    "    excluded_numbers = numbers[1:-1]\n",
    "\n",
    "    # Calculate the average\n",
    "    average = sum(excluded_numbers) / len(excluded_numbers)\n",
    "    return average\n",
    "\n",
    "def main():\n",
    "    try:\n",
    "        # Get input from the user\n",
    "        input_str = input(\"Enter a list of numbers separated by spaces: \")\n",
    "        numbers = [float(x) for x in input_str.split()]\n",
    "\n",
    "        # Calculate and display the result\n",
    "        result = calculate_average(numbers)\n",
    "        print(f\"The average (excluding the smallest and largest values) is: {result}\")\n",
    "    except ValueError:\n",
    "        print(\"Invalid input. Please enter valid numbers separated by spaces.\")\n",
    "\n",
    "if __name__ == \"__main__\":\n",
    "    main()\n"
   ]
  },
  {
   "cell_type": "code",
   "execution_count": null,
   "id": "78b8eac3-e1fa-4b1a-b458-1fc5b474403f",
   "metadata": {},
   "outputs": [],
   "source": [
    "#20. Write a program that determines the roots of a cubic equation using the Cardano formula.\n",
    "import cmath  # Complex math module for handling complex numbers\n",
    "\n",
    "def cubic_roots(a, b, c, d):\n",
    "    # Calculate the discriminant\n",
    "    delta0 = c**2 - 3 * b * d\n",
    "    delta1 = 2 * c**3 - 9 * b * c * d + 27 * a * d**2\n",
    "    delta = delta1**2 - 4 * delta0**3\n",
    "\n",
    "    # Check the nature of roots\n",
    "    if delta > 0:\n",
    "        # Three real roots\n",
    "        roots = real_roots(a, b, c, delta0, delta1)\n",
    "    elif delta == 0:\n",
    "        # Three real roots, at least two are equal\n",
    "        roots = equal_real_roots(a, b, c, delta0, delta1)\n",
    "    else:\n",
    "        # One real root, two complex roots\n",
    "        roots = complex_roots(a, b, c, delta0, delta1)\n",
    "\n",
    "    return roots\n",
    "\n",
    "def real_roots(a, b, c, delta0, delta1):\n",
    "    C = ((delta1 + cmath.sqrt(delta1**2 - 4 * delta0**3)) / 2.0)**(1/3.0)\n",
    "    root1 = -1 / (3 * a) * (b + C + delta0 / C)\n",
    "    root2 = -1 / (3 * a) * (b - 0.5 * (C + delta0 / C))\n",
    "    root3 = -1 / (3 * a) * (b - 0.5 * (C + delta0 / C))\n",
    "    return root1, root2, root3\n",
    "\n",
    "def equal_real_roots(a, b, c, delta0, delta1):\n",
    "    root1 = -1 / (3 * a) * (b + cmath.sqrt(delta0))\n",
    "    root2 = -1 / (3 * a) * (b - 0.5 * cmath.sqrt(delta0))\n",
    "    root3 = -1 / (3 * a) * (b - 0.5 * cmath.sqrt(delta0))\n",
    "    return root1, root2, root3\n",
    "\n",
    "def complex_roots(a, b, c, delta0, delta1):\n",
    "    C = ((delta1 + cmath.sqrt(delta1**2 - 4 * delta0**3)) / 2.0)**(1/3.0)\n",
    "    root1 = -1 / (3 * a) * (b + C + delta0 / C)\n",
    "    root2 = -1 / (3 * a) * (b - 0.5 * (C + delta0 / C)) + 1j * (3**0.5) / (6 * a) * (C - delta0 / C)\n",
    "    root3 = -1 / (3 * a) * (b - 0.5 * (C + delta0 / C)) - 1j * (3**0.5) / (6 * a) * (C - delta0 / C)\n",
    "    return root1, root2, root3\n",
    "\n",
    "def main():\n",
    "    try:\n",
    "        # Get coefficients from the user\n",
    "        a = float(input(\"Enter the coefficient a: \"))\n",
    "        b = float(input(\"Enter the coefficient b: \"))\n",
    "        c = float(input(\"Enter the coefficient c: \"))\n",
    "        d = float(input(\"Enter the coefficient d: \"))\n",
    "\n",
    "        # Calculate and display the roots\n",
    "        roots = cubic_roots(a, b, c, d)\n",
    "        print(f\"The roots of the cubic equation are: {roots}\")\n",
    "    except ValueError:\n",
    "        print(\"Invalid input. Please enter valid numeric coefficients.\")\n",
    "\n",
    "if __name__ == \"__main__\":\n",
    "    main()\n"
   ]
  },
  {
   "cell_type": "markdown",
   "id": "3ff2c4b2-00a1-4347-843e-411194089e89",
   "metadata": {},
   "source": [
    "Advanced level"
   ]
  },
  {
   "cell_type": "code",
   "execution_count": null,
   "id": "af944d9e-4336-493a-9879-46578aa7e6af",
   "metadata": {},
   "outputs": [],
   "source": [
    "#21. Create a program that calculates the income tax based on the user's income and tax brackets.\n",
    "def calculate_income_tax(income):\n",
    "    # Tax brackets and rates\n",
    "    brackets = [10000, 30000, 70000]  # Example brackets in dollars\n",
    "    rates = [0.1, 0.2, 0.3, 0.4]      # Example tax rates\n",
    "\n",
    "    # Calculate tax based on income and brackets\n",
    "    tax = 0\n",
    "    remaining_income = income\n",
    "\n",
    "    for i in range(len(brackets)):\n",
    "        if remaining_income <= 0:\n",
    "            break\n",
    "\n",
    "        if i == len(brackets) - 1:\n",
    "            # Last bracket\n",
    "            tax += remaining_income * rates[i]\n",
    "        else:\n",
    "            if remaining_income > brackets[i + 1] - brackets[i]:\n",
    "                tax += (brackets[i + 1] - brackets[i]) * rates[i]\n",
    "                remaining_income -= brackets[i + 1] - brackets[i]\n",
    "            else:\n",
    "                tax += remaining_income * rates[i]\n",
    "                remaining_income = 0\n",
    "\n",
    "    return tax\n",
    "\n",
    "def main():\n",
    "    try:\n",
    "        # Get income from the user\n",
    "        income = float(input(\"Enter your annual income: $\"))\n",
    "\n",
    "        # Calculate and display the income tax\n",
    "        income_tax = calculate_income_tax(income)\n",
    "        print(f\"Your income tax is: ${income_tax:.2f}\")\n",
    "    except ValueError:\n",
    "        print(\"Invalid input. Please enter a valid numeric income.\")\n",
    "\n",
    "if __name__ == \"__main__\":\n",
    "    main()\n"
   ]
  },
  {
   "cell_type": "code",
   "execution_count": null,
   "id": "4cc7ce0a-c115-4e6f-ae81-ed5fd1d71e33",
   "metadata": {},
   "outputs": [],
   "source": [
    "#22. Write a program that simulates a rock-paper-scissors game against the computer.\n",
    "import random\n",
    "\n",
    "def get_user_choice():\n",
    "    while True:\n",
    "        print(\"\\n===== Rock-Paper-Scissors Game =====\")\n",
    "        print(\"1. Rock\")\n",
    "        print(\"2. Paper\")\n",
    "        print(\"3. Scissors\")\n",
    "\n",
    "        try:\n",
    "            user_choice = int(input(\"Enter your choice (1-3): \"))\n",
    "            if 1 <= user_choice <= 3:\n",
    "                return user_choice\n",
    "            else:\n",
    "                print(\"Invalid choice. Please enter a number between 1 and 3.\")\n",
    "        except ValueError:\n",
    "            print(\"Invalid input. Please enter a valid number.\")\n",
    "\n",
    "def get_computer_choice():\n",
    "    return random.randint(1, 3)\n",
    "\n",
    "def determine_winner(user_choice, computer_choice):\n",
    "    if user_choice == computer_choice:\n",
    "        return \"It's a tie!\"\n",
    "    elif (\n",
    "        (user_choice == 1 and computer_choice == 3) or\n",
    "        (user_choice == 2 and computer_choice == 1) or\n",
    "        (user_choice == 3 and computer_choice == 2)\n",
    "    ):\n",
    "        return \"You win!\"\n",
    "    else:\n",
    "        return \"Computer wins!\"\n",
    "\n",
    "def main():\n",
    "    user_choice = get_user_choice()\n",
    "    computer_choice = get_computer_choice()\n",
    "\n",
    "    choices = {1: \"Rock\", 2: \"Paper\", 3: \"Scissors\"}\n",
    "\n",
    "    print(f\"\\nYou chose {choices[user_choice]}\")\n",
    "    print(f\"Computer chose {choices[computer_choice]}\")\n",
    "\n",
    "    result = determine_winner(user_choice, computer_choice)\n",
    "    print(result)\n",
    "\n",
    "if __name__ == \"__main__\":\n",
    "    main()\n"
   ]
  },
  {
   "cell_type": "code",
   "execution_count": null,
   "id": "817d1c63-c5f2-4f83-af7c-8a39277eb7de",
   "metadata": {},
   "outputs": [],
   "source": [
    "#23. Develop a program that generates a random password based on user preferences (length, complexity).\n",
    "import string\n",
    "import random\n",
    "\n",
    "def generate_password(length, include_uppercase, include_lowercase, include_digits, include_special_chars):\n",
    "    # Define character sets based on user preferences\n",
    "    uppercase_chars = string.ascii_uppercase if include_uppercase else \"\"\n",
    "    lowercase_chars = string.ascii_lowercase if include_lowercase else \"\"\n",
    "    digit_chars = string.digits if include_digits else \"\"\n",
    "    special_chars = string.punctuation if include_special_chars else \"\"\n",
    "\n",
    "    # Combine character sets\n",
    "    all_chars = uppercase_chars + lowercase_chars + digit_chars + special_chars\n",
    "\n",
    "    # Check if at least one character set is selected\n",
    "    if not all_chars:\n",
    "        print(\"Please select at least one character set.\")\n",
    "        return None\n",
    "\n",
    "    # Generate the password\n",
    "    password = ''.join(random.choice(all_chars) for _ in range(length))\n",
    "    return password\n",
    "\n",
    "def main():\n",
    "    print(\"===== Random Password Generator =====\")\n",
    "\n",
    "    try:\n",
    "        # Get user preferences\n",
    "        length = int(input(\"Enter the desired length of the password: \"))\n",
    "        include_uppercase = input(\"Include uppercase letters? (y/n): \").lower() == 'y'\n",
    "        include_lowercase = input(\"Include lowercase letters? (y/n): \").lower() == 'y'\n",
    "        include_digits = input(\"Include digits? (y/n): \").lower() == 'y'\n",
    "        include_special_chars = input(\"Include special characters? (y/n): \").lower() == 'y'\n",
    "\n",
    "        # Generate and display the password\n",
    "        password = generate_password(length, include_uppercase, include_lowercase, include_digits, include_special_chars)\n",
    "        if password:\n",
    "            print(f\"\\nGenerated Password: {password}\")\n",
    "    except ValueError:\n",
    "        print(\"Invalid input. Please enter valid preferences.\")\n",
    "\n",
    "if __name__ == \"__main__\":\n",
    "    main()\n"
   ]
  },
  {
   "cell_type": "code",
   "execution_count": null,
   "id": "177dfa54-3d3c-4b47-936e-f2845950e7c4",
   "metadata": {},
   "outputs": [],
   "source": [
    "#24. Create a program that implements a simple text-based adventure game with branching scenarios.\n",
    "import time\n",
    "\n",
    "def introduction():\n",
    "    print(\"Welcome to the Text Adventure Game!\")\n",
    "    print(\"You find yourself in a mysterious forest. Your goal is to reach the treasure at the end.\")\n",
    "    print(\"Be careful, as your choices will determine your fate!\\n\")\n",
    "\n",
    "def make_choice(options):\n",
    "    print(\"Choose an option:\")\n",
    "    for i, option in enumerate(options, start=1):\n",
    "        print(f\"{i}. {option}\")\n",
    "\n",
    "    choice = input(\"Enter the number of your choice: \")\n",
    "\n",
    "    try:\n",
    "        choice_num = int(choice)\n",
    "        if 1 <= choice_num <= len(options):\n",
    "            return choice_num\n",
    "        else:\n",
    "            print(\"Invalid choice. Please enter a number within the given options.\")\n",
    "            return make_choice(options)\n",
    "    except ValueError:\n",
    "        print(\"Invalid input. Please enter a valid number.\")\n",
    "        return make_choice(options)\n",
    "\n",
    "def scenario1():\n",
    "    print(\"\\nYou encounter a fork in the path.\")\n",
    "    time.sleep(1)\n",
    "    print(\"1. Take the left path.\")\n",
    "    print(\"2. Take the right path.\")\n",
    "\n",
    "    choice = make_choice([\"Take the left path\", \"Take the right path\"])\n",
    "\n",
    "    if choice == 1:\n",
    "        print(\"\\nYou follow the left path and discover a hidden bridge.\")\n",
    "        time.sleep(1)\n",
    "        print(\"The bridge leads you safely across a deep ravine.\")\n",
    "    else:\n",
    "        print(\"\\nYou take the right path and encounter a pack of wild wolves.\")\n",
    "        time.sleep(1)\n",
    "        print(\"You manage to scare them away using a loud noise.\")\n",
    "\n",
    "def scenario2():\n",
    "    print(\"\\nYou come across a mystical door with three keyholes.\")\n",
    "    time.sleep(1)\n",
    "    print(\"1. Use the golden key.\")\n",
    "    print(\"2. Use the silver key.\")\n",
    "    print(\"3. Use the bronze key.\")\n",
    "\n",
    "    choice = make_choice([\"Use the golden key\", \"Use the silver key\", \"Use the bronze key\"])\n",
    "\n",
    "    if choice == 1:\n",
    "        print(\"\\nThe golden key fits perfectly! The door creaks open, revealing a room full of treasures.\")\n",
    "    elif choice == 2:\n",
    "        print(\"\\nThe silver key doesn't fit. You hear a mysterious noise, and the door remains closed.\")\n",
    "    else:\n",
    "        print(\"\\nThe bronze key fits, but as you open the door, a trap is triggered!\")\n",
    "        time.sleep(1)\n",
    "        print(\"You narrowly avoid falling into a pit.\")\n",
    "\n",
    "def main():\n",
    "    introduction()\n",
    "\n",
    "    print(\"\\nYou find two paths in front of you.\")\n",
    "    time.sleep(1)\n",
    "    print(\"1. Follow the path deeper into the forest.\")\n",
    "    print(\"2. Turn back and leave the forest.\")\n",
    "\n",
    "    choice = make_choice([\"Follow the path\", \"Turn back and leave the forest\"])\n",
    "\n",
    "    if choice == 1:\n",
    "        scenario1()\n",
    "        time.sleep(1)\n",
    "        print(\"\\nYou reach the end of the forest and discover the hidden treasure! Congratulations!\")\n",
    "    else:\n",
    "        print(\"\\nYou decide to leave the forest. Thanks for playing!\")\n",
    "\n",
    "if __name__ == \"__main__\":\n",
    "    main()\n"
   ]
  },
  {
   "cell_type": "code",
   "execution_count": null,
   "id": "57ed1e36-db51-42d0-a4c5-6f1cbf5f7753",
   "metadata": {},
   "outputs": [],
   "source": [
    "#25. Build a program that solves a linear equation for x, considering different cases.\n",
    "def solve_linear_equation(a, b):\n",
    "    if a == 0:\n",
    "        if b == 0:\n",
    "            return \"Infinite solutions (any x is a solution)\"\n",
    "        else:\n",
    "            return \"No solution (contradiction)\"\n",
    "    else:\n",
    "        x = -b / a\n",
    "        return f\"The solution for x is: {x}\"\n",
    "\n",
    "def main():\n",
    "    print(\"===== Linear Equation Solver =====\")\n",
    "\n",
    "    try:\n",
    "        # Get coefficients from the user\n",
    "        a = float(input(\"Enter the coefficient 'a': \"))\n",
    "        b = float(input(\"Enter the coefficient 'b': \"))\n",
    "\n",
    "        # Solve and display the result\n",
    "        result = solve_linear_equation(a, b)\n",
    "        print(result)\n",
    "    except ValueError:\n",
    "        print(\"Invalid input. Please enter valid numeric coefficients.\")\n",
    "\n",
    "if __name__ == \"__main__\":\n",
    "    main()\n"
   ]
  },
  {
   "cell_type": "code",
   "execution_count": null,
   "id": "b044189a-071b-4051-9568-b367fcd7b295",
   "metadata": {},
   "outputs": [],
   "source": [
    "#26. Write a program that simulates a basic quiz game with multiple-choice questions and scoring.\n",
    "class Quiz:\n",
    "    def __init__(self):\n",
    "        self.questions = [\n",
    "            {\n",
    "                \"question\": \"What is the capital of France?\",\n",
    "                \"options\": [\"A. Berlin\", \"B. Paris\", \"C. Madrid\", \"D. Rome\"],\n",
    "                \"correct_answer\": \"B\"\n",
    "            },\n",
    "            {\n",
    "                \"question\": \"Which planet is known as the Red Planet?\",\n",
    "                \"options\": [\"A. Mars\", \"B. Jupiter\", \"C. Venus\", \"D. Saturn\"],\n",
    "                \"correct_answer\": \"A\"\n",
    "            },\n",
    "            {\n",
    "                \"question\": \"What is the largest mammal in the world?\",\n",
    "                \"options\": [\"A. Elephant\", \"B. Blue Whale\", \"C. Giraffe\", \"D. Hippopotamus\"],\n",
    "                \"correct_answer\": \"B\"\n",
    "            }\n",
    "        ]\n",
    "        self.score = 0\n",
    "\n",
    "    def display_question(self, question_number):\n",
    "        question_data = self.questions[question_number]\n",
    "        print(f\"\\n{question_data['question']}\")\n",
    "        for option in question_data['options']:\n",
    "            print(option)\n",
    "\n",
    "    def get_user_answer(self):\n",
    "        while True:\n",
    "            user_answer = input(\"Enter the letter corresponding to your answer: \").upper()\n",
    "            if user_answer in [\"A\", \"B\", \"C\", \"D\"]:\n",
    "                return user_answer\n",
    "            else:\n",
    "                print(\"Invalid choice. Please enter A, B, C, or D.\")\n",
    "\n",
    "    def check_answer(self, question_number, user_answer):\n",
    "        correct_answer = self.questions[question_number]['correct_answer']\n",
    "        if user_answer == correct_answer:\n",
    "            print(\"Correct!\\n\")\n",
    "            self.score += 1\n",
    "        else:\n",
    "            print(f\"Wrong! The correct answer is {correct_answer}.\\n\")\n",
    "\n",
    "    def run_quiz(self):\n",
    "        print(\"===== Quiz Game =====\")\n",
    "\n",
    "        for i in range(len(self.questions)):\n",
    "            self.display_question(i)\n",
    "            user_answer = self.get_user_answer()\n",
    "            self.check_answer(i, user_answer)\n",
    "\n",
    "        print(f\"\\nYour final score is: {self.score}/{len(self.questions)}\")\n",
    "\n",
    "\n",
    "def main():\n",
    "    quiz = Quiz()\n",
    "    quiz.run_quiz()\n",
    "\n",
    "if __name__ == \"__main__\":\n",
    "    main()\n"
   ]
  },
  {
   "cell_type": "code",
   "execution_count": null,
   "id": "006bd413-9d34-4fd9-8aaa-b686c1b17844",
   "metadata": {},
   "outputs": [],
   "source": [
    "#27. Develop a program that determines whether a given year is a prime number or not.\n",
    "def is_prime(year):\n",
    "    if year < 2:\n",
    "        return False\n",
    "    for i in range(2, int(year**0.5) + 1):\n",
    "        if year % i == 0:\n",
    "            return False\n",
    "    return True\n",
    "\n",
    "def main():\n",
    "    print(\"===== Prime Year Checker =====\")\n",
    "    try:\n",
    "        # Get the year from the user\n",
    "        year = int(input(\"Enter a year to check for primality: \"))\n",
    "\n",
    "        # Check and display the result\n",
    "        if is_prime(year):\n",
    "            print(f\"{year} is a prime year.\")\n",
    "        else:\n",
    "            print(f\"{year} is not a prime year.\")\n",
    "    except ValueError:\n",
    "        print(\"Invalid input. Please enter a valid numeric year.\")\n",
    "\n",
    "if __name__ == \"__main__\":\n",
    "    main()\n",
    "\n"
   ]
  },
  {
   "cell_type": "code",
   "execution_count": null,
   "id": "0954c819-5011-4faa-8613-e5d424e01072",
   "metadata": {},
   "outputs": [],
   "source": [
    "#28. Create a program that sorts three numbers in ascending order using conditional statements.\n",
    "def sort_numbers(num1, num2, num3):\n",
    "    # Compare the numbers and swap if necessary to ensure ascending order\n",
    "    if num1 > num2:\n",
    "        num1, num2 = num2, num1\n",
    "    if num2 > num3:\n",
    "        num2, num3 = num3, num2\n",
    "    if num1 > num2:\n",
    "        num1, num2 = num2, num1\n",
    "    \n",
    "    return num1, num2, num3\n",
    "\n",
    "def main():\n",
    "    print(\"===== Sorting Three Numbers =====\")\n",
    "\n",
    "    try:\n",
    "        # Get three numbers from the user\n",
    "        num1 = float(input(\"Enter the first number: \"))\n",
    "        num2 = float(input(\"Enter the second number: \"))\n",
    "        num3 = float(input(\"Enter the third number: \"))\n",
    "\n",
    "        # Sort and display the result\n",
    "        sorted_nums = sort_numbers(num1, num2, num3)\n",
    "        print(f\"The numbers in ascending order are: {sorted_nums}\")\n",
    "    except ValueError:\n",
    "        print(\"Invalid input. Please enter valid numeric values.\")\n",
    "\n",
    "if __name__ == \"__main__\":\n",
    "    main()\n"
   ]
  },
  {
   "cell_type": "code",
   "execution_count": null,
   "id": "730ce5ba-4a8e-486e-9865-ae05501a607a",
   "metadata": {},
   "outputs": [],
   "source": [
    "#29. Build a program that determines the roots of a quartic equation using numerical methods.\n",
    "def quartic_function(x, a, b, c, d, e):\n",
    "    return a*x**4 + b*x**3 + c*x**2 + d*x + e\n",
    "\n",
    "def derivative_quartic_function(x, a, b, c, d):\n",
    "    return 4*a*x**3 + 3*b*x**2 + 2*c*x + d\n",
    "\n",
    "def newton_raphson_quartic(a, b, c, d, e, x0, tolerance=1e-6, max_iterations=100):\n",
    "    x = x0\n",
    "    for i in range(max_iterations):\n",
    "        f_x = quartic_function(x, a, b, c, d, e)\n",
    "        f_prime_x = derivative_quartic_function(x, a, b, c, d)\n",
    "\n",
    "        if abs(f_x) < tolerance:\n",
    "            return x\n",
    "\n",
    "        x = x - f_x / f_prime_x\n",
    "\n",
    "    return None  # If the method doesn't converge within max_iterations\n",
    "\n",
    "def main():\n",
    "    print(\"===== Quartic Equation Solver =====\")\n",
    "\n",
    "    try:\n",
    "        # Get coefficients from the user\n",
    "        a = float(input(\"Enter the coefficient a: \"))\n",
    "        b = float(input(\"Enter the coefficient b: \"))\n",
    "        c = float(input(\"Enter the coefficient c: \"))\n",
    "        d = float(input(\"Enter the coefficient d: \"))\n",
    "        e = float(input(\"Enter the coefficient e: \"))\n",
    "\n",
    "        # Get an initial guess for the root\n",
    "        x0 = float(input(\"Enter an initial guess for the root: \"))\n",
    "\n",
    "        # Use Newton-Raphson method to find a root\n",
    "        root = newton_raphson_quartic(a, b, c, d, e, x0)\n",
    "\n",
    "        if root is not None:\n",
    "            print(f\"\\nThe root of the quartic equation is approximately: {root:.6f}\")\n",
    "        else:\n",
    "            print(\"The Newton-Raphson method did not converge within the specified iterations.\")\n",
    "    except ValueError:\n",
    "        print(\"Invalid input. Please enter valid numeric coefficients and an initial guess.\")\n",
    "\n",
    "if __name__ == \"__main__\":\n",
    "    main()\n"
   ]
  },
  {
   "cell_type": "code",
   "execution_count": null,
   "id": "0f8440fe-d94c-4d7d-b561-371f4e327981",
   "metadata": {},
   "outputs": [],
   "source": [
    "#30. Write a program that calculates the BMI (Body Mass Index) and provides health recommendations based on the user's input.\n",
    "def calculate_bmi(weight, height):\n",
    "    # BMI formula: BMI = weight (kg) / (height (m))^2\n",
    "    bmi = weight / (height ** 2)\n",
    "    return bmi\n",
    "\n",
    "def interpret_bmi(bmi):\n",
    "    if bmi < 18.5:\n",
    "        return \"Underweight\"\n",
    "    elif 18.5 <= bmi < 24.9:\n",
    "        return \"Normal weight\"\n",
    "    elif 25 <= bmi < 29.9:\n",
    "        return \"Overweight\"\n",
    "    else:\n",
    "        return \"Obese\"\n",
    "\n",
    "def main():\n",
    "    print(\"===== BMI Calculator =====\")\n",
    "\n",
    "    try:\n",
    "        # Get user's weight and height\n",
    "        weight = float(input(\"Enter your weight in kilograms: \"))\n",
    "        height = float(input(\"Enter your height in meters: \"))\n",
    "\n",
    "        # Calculate BMI\n",
    "        bmi = calculate_bmi(weight, height)\n",
    "\n",
    "        # Interpret BMI and provide health recommendations\n",
    "        category = interpret_bmi(bmi)\n",
    "        print(f\"\\nYour BMI is: {bmi:.2f}\")\n",
    "        print(f\"You are classified as: {category}\")\n",
    "\n",
    "        # Health recommendations\n",
    "        if category == \"Underweight\":\n",
    "            print(\"Recommendation: Consider consulting with a healthcare professional to address your weight.\")\n",
    "        elif category == \"Normal weight\":\n",
    "            print(\"Recommendation: Maintain a healthy lifestyle with balanced diet and regular exercise.\")\n",
    "        elif category == \"Overweight\":\n",
    "            print(\"Recommendation: Focus on a balanced diet and regular exercise to achieve a healthy weight.\")\n",
    "        else:\n",
    "            print(\"Recommendation: Consult with a healthcare professional for guidance on weight management.\")\n",
    "\n",
    "    except ValueError:\n",
    "        print(\"Invalid input. Please enter valid numeric values for weight and height.\")\n",
    "\n",
    "if __name__ == \"__main__\":\n",
    "    main()\n"
   ]
  },
  {
   "cell_type": "markdown",
   "id": "894cb047-2362-46f9-9641-746a251f6897",
   "metadata": {},
   "source": [
    "Challenged level"
   ]
  },
  {
   "cell_type": "code",
   "execution_count": null,
   "id": "be146731-ec22-4c17-9928-7be01e92c94e",
   "metadata": {},
   "outputs": [],
   "source": [
    "#31. Create a program that validates a password based on complexity rules (length, characters, etc.).\n",
    "import re\n",
    "\n",
    "def is_valid_password(password):\n",
    "    # Check if the password meets length requirements\n",
    "    if len(password) < 8:\n",
    "        return False\n",
    "\n",
    "    # Check if the password contains both uppercase and lowercase letters\n",
    "    if not any(char.isupper() for char in password) or not any(char.islower() for char in password):\n",
    "        return False\n",
    "\n",
    "    # Check if the password contains at least one digit\n",
    "    if not any(char.isdigit() for char in password):\n",
    "        return False\n",
    "\n",
    "    # Check if the password contains at least one special character\n",
    "    special_characters = re.compile(r\"[!@#$%^&*(),.?\\\":{}|<>]\")\n",
    "    if not special_characters.search(password):\n",
    "        return False\n",
    "\n",
    "    # If all checks pass, the password is considered valid\n",
    "    return True\n",
    "\n",
    "# Test the function with example passwords\n",
    "passwords_to_check = [\"StrongP@ssword123\", \"WeakPwd\", \"NoDigitOrSpecialChar\", \"Short1!\"]\n",
    "for password in passwords_to_check:\n",
    "    if is_valid_password(password):\n",
    "        print(f'The password \"{password}\" is valid.')\n",
    "    else:\n",
    "        print(f'The password \"{password}\" is not valid.')\n"
   ]
  },
  {
   "cell_type": "code",
   "execution_count": 2,
   "id": "7235297e-2350-4b48-a71a-b8d66eae263f",
   "metadata": {},
   "outputs": [
    {
     "name": "stdin",
     "output_type": "stream",
     "text": [
      "Enter the number of rows for the matrices:  2\n",
      "Enter the number of columns for the matrices:  2\n"
     ]
    },
    {
     "name": "stdout",
     "output_type": "stream",
     "text": [
      "Enter elements for Matrix A:\n"
     ]
    },
    {
     "name": "stdin",
     "output_type": "stream",
     "text": [
      "Enter element at position (1,1):  12\n",
      "Enter element at position (1,2):  23\n",
      "Enter element at position (2,1):  45\n",
      "Enter element at position (2,2):  56\n"
     ]
    },
    {
     "name": "stdout",
     "output_type": "stream",
     "text": [
      "Enter elements for Matrix B:\n"
     ]
    },
    {
     "name": "stdin",
     "output_type": "stream",
     "text": [
      "Enter element at position (1,1):  78\n",
      "Enter element at position (1,2):  98\n",
      "Enter element at position (2,1):  65\n",
      "Enter element at position (2,2):  45\n"
     ]
    },
    {
     "name": "stdout",
     "output_type": "stream",
     "text": [
      "\n",
      "Matrix A:\n",
      "[12.0, 23.0]\n",
      "[45.0, 56.0]\n",
      "\n",
      "Matrix B:\n",
      "[78.0, 98.0]\n",
      "[65.0, 45.0]\n",
      "\n",
      "Matrix Sum (A + B):\n",
      "[90.0, 121.0]\n",
      "[110.0, 101.0]\n",
      "\n",
      "Matrix Difference (A - B):\n",
      "[-66.0, -75.0]\n",
      "[-20.0, 11.0]\n"
     ]
    }
   ],
   "source": [
    "#32. Develop a program that performs matrix addition and subtraction based on user input.\n",
    "def get_matrix(rows, cols):\n",
    "    matrix = []\n",
    "    for i in range(rows):\n",
    "        row = []\n",
    "        for j in range(cols):\n",
    "            value = float(input(f\"Enter element at position ({i + 1},{j + 1}): \"))\n",
    "            row.append(value)\n",
    "        matrix.append(row)\n",
    "    return matrix\n",
    "\n",
    "def matrix_addition(matrix1, matrix2):\n",
    "    result = []\n",
    "    for i in range(len(matrix1)):\n",
    "        row = []\n",
    "        for j in range(len(matrix1[0])):\n",
    "            row.append(matrix1[i][j] + matrix2[i][j])\n",
    "        result.append(row)\n",
    "    return result\n",
    "\n",
    "def matrix_subtraction(matrix1, matrix2):\n",
    "    result = []\n",
    "    for i in range(len(matrix1)):\n",
    "        row = []\n",
    "        for j in range(len(matrix1[0])):\n",
    "            row.append(matrix1[i][j] - matrix2[i][j])\n",
    "        result.append(row)\n",
    "    return result\n",
    "\n",
    "def print_matrix(matrix):\n",
    "    for row in matrix:\n",
    "        print(row)\n",
    "\n",
    "# Get matrix dimensions from the user\n",
    "rows = int(input(\"Enter the number of rows for the matrices: \"))\n",
    "cols = int(input(\"Enter the number of columns for the matrices: \"))\n",
    "\n",
    "# Get matrices from the user\n",
    "print(\"Enter elements for Matrix A:\")\n",
    "matrix_a = get_matrix(rows, cols)\n",
    "\n",
    "print(\"Enter elements for Matrix B:\")\n",
    "matrix_b = get_matrix(rows, cols)\n",
    "\n",
    "# Perform matrix addition and subtraction\n",
    "sum_matrix = matrix_addition(matrix_a, matrix_b)\n",
    "difference_matrix = matrix_subtraction(matrix_a, matrix_b)\n",
    "\n",
    "# Display the results\n",
    "print(\"\\nMatrix A:\")\n",
    "print_matrix(matrix_a)\n",
    "\n",
    "print(\"\\nMatrix B:\")\n",
    "print_matrix(matrix_b)\n",
    "\n",
    "print(\"\\nMatrix Sum (A + B):\")\n",
    "print_matrix(sum_matrix)\n",
    "\n",
    "print(\"\\nMatrix Difference (A - B):\")\n",
    "print_matrix(difference_matrix)\n"
   ]
  },
  {
   "cell_type": "code",
   "execution_count": null,
   "id": "f2866283-5cb1-4080-b74e-4b08831f174b",
   "metadata": {},
   "outputs": [],
   "source": [
    "#33. Write a program that calculates the greatest common divisor (GCD) of two numbers using the Euclidean algorithm.\n",
    "def euclidean_gcd(a, b):\n",
    "    while b:\n",
    "        a, b = b, a % b\n",
    "    return a\n",
    "\n",
    "def main():\n",
    "    # Get input from the user\n",
    "    num1 = int(input(\"Enter the first number: \"))\n",
    "    num2 = int(input(\"Enter the second number: \"))\n",
    "\n",
    "    # Calculate the GCD using the Euclidean algorithm\n",
    "    gcd = euclidean_gcd(num1, num2)\n",
    "\n",
    "    # Display the result\n",
    "    print(f\"The GCD of {num1} and {num2} is: {gcd}\")\n",
    "\n",
    "if __name__ == \"__main__\":\n",
    "    main()\n"
   ]
  },
  {
   "cell_type": "code",
   "execution_count": null,
   "id": "1ce22ef2-06ea-4e1f-b5b2-f50b1466aa21",
   "metadata": {},
   "outputs": [],
   "source": [
    "#34. Build a program that performs matrix multiplication using nested loops and conditional statements.\n",
    "def matrix_multiplication(matrix1, matrix2):\n",
    "    rows1, cols1 = len(matrix1), len(matrix1[0])\n",
    "    rows2, cols2 = len(matrix2), len(matrix2[0])\n",
    "\n",
    "    # Check if matrices can be multiplied\n",
    "    if cols1 != rows2:\n",
    "        print(\"Error: The number of columns in the first matrix must be equal to the number of rows in the second matrix.\")\n",
    "        return None\n",
    "\n",
    "    result = [[0 for _ in range(cols2)] for _ in range(rows1)]\n",
    "\n",
    "    for i in range(rows1):\n",
    "        for j in range(cols2):\n",
    "            for k in range(cols1):\n",
    "                result[i][j] += matrix1[i][k] * matrix2[k][j]\n",
    "\n",
    "    return result\n",
    "\n",
    "def print_matrix(matrix):\n",
    "    for row in matrix:\n",
    "        print(row)\n",
    "\n",
    "# Example matrices for testing\n",
    "matrix_a = [[1, 2, 3], [4, 5, 6]]\n",
    "matrix_b = [[7, 8], [9, 10], [11, 12]]\n",
    "\n",
    "# Perform matrix multiplication\n",
    "product_matrix = matrix_multiplication(matrix_a, matrix_b)\n",
    "\n",
    "# Display the result\n",
    "if product_matrix is not None:\n",
    "    print(\"Matrix A:\")\n",
    "    print_matrix(matrix_a)\n",
    "\n",
    "    print(\"\\nMatrix B:\")\n",
    "    print_matrix(matrix_b)\n",
    "\n",
    "    print(\"\\nMatrix Product (A * B):\")\n",
    "    print_matrix(product_matrix)\n"
   ]
  },
  {
   "cell_type": "code",
   "execution_count": null,
   "id": "abff28b2-2448-4711-82b4-3519bb052f90",
   "metadata": {},
   "outputs": [],
   "source": [
    "#35. Create a program that simulates a basic text-based tic-tac-toe game against the computer.\n",
    "import random\n",
    "\n",
    "def print_board(board):\n",
    "    for row in board:\n",
    "        print(\" | \".join(row))\n",
    "        print(\"-\" * 9)\n",
    "\n",
    "def check_winner(board, player):\n",
    "    # Check rows and columns\n",
    "    for i in range(3):\n",
    "        if all(board[i][j] == player for j in range(3)) or all(board[j][i] == player for j in range(3)):\n",
    "            return True\n",
    "\n",
    "    # Check diagonals\n",
    "    if all(board[i][i] == player for i in range(3)) or all(board[i][2 - i] == player for i in range(3)):\n",
    "        return True\n",
    "\n",
    "    return False\n",
    "\n",
    "def is_board_full(board):\n",
    "    return all(all(cell != ' ' for cell in row) for row in board)\n",
    "\n",
    "def player_move(board):\n",
    "    while True:\n",
    "        try:\n",
    "            move = int(input(\"Enter your move (1-9): \"))\n",
    "            row, col = divmod(move - 1, 3)\n",
    "            if 1 <= move <= 9 and board[row][col] == ' ':\n",
    "                return row, col\n",
    "            else:\n",
    "                print(\"Invalid move. Please choose an empty position (1-9).\")\n",
    "        except ValueError:\n",
    "            print(\"Invalid input. Please enter a number.\")\n",
    "\n",
    "def computer_move(board):\n",
    "    available_moves = [(i, j) for i in range(3) for j in range(3) if board[i][j] == ' ']\n",
    "    return random.choice(available_moves)\n",
    "\n",
    "def main():\n",
    "    board = [[' ' for _ in range(3)] for _ in range(3)]\n",
    "    player_symbol = 'X'\n",
    "    computer_symbol = 'O'\n",
    "\n",
    "    print(\"Welcome to Tic-Tac-Toe!\")\n",
    "\n",
    "    while True:\n",
    "        print_board(board)\n",
    "\n",
    "        # Player's move\n",
    "        player_row, player_col = player_move(board)\n",
    "        board[player_row][player_col] = player_symbol\n",
    "\n",
    "        # Check if the player wins\n",
    "        if check_winner(board, player_symbol):\n",
    "            print_board(board)\n",
    "            print(\"Congratulations! You win!\")\n",
    "            break\n",
    "\n",
    "        # Check for a tie\n",
    "        if is_board_full(board):\n",
    "            print_board(board)\n",
    "            print(\"It's a tie!\")\n",
    "            break\n",
    "\n",
    "        # Computer's move\n",
    "        print(\"Computer's move:\")\n",
    "        computer_row, computer_col = computer_move(board)\n",
    "        board[computer_row][computer_col] = computer_symbol\n",
    "\n",
    "        # Check if the computer wins\n",
    "        if check_winner(board, computer_symbol):\n",
    "            print_board(board)\n",
    "            print(\"Computer wins! Better luck next time.\")\n",
    "            break\n",
    "\n",
    "if __name__ == \"__main__\":\n",
    "    main()\n"
   ]
  },
  {
   "cell_type": "code",
   "execution_count": null,
   "id": "99edf5a1-261b-4012-8bf7-4ec03ef7d751",
   "metadata": {},
   "outputs": [],
   "source": [
    "#36. Write a program that generates Fibonacci numbers up to a specified term using iterative methods.\n",
    "def generate_fibonacci(n):\n",
    "    fibonacci_sequence = [0, 1]\n",
    "\n",
    "    while len(fibonacci_sequence) < n:\n",
    "        next_term = fibonacci_sequence[-1] + fibonacci_sequence[-2]\n",
    "        fibonacci_sequence.append(next_term)\n",
    "\n",
    "    return fibonacci_sequence[:n]\n",
    "\n",
    "def main():\n",
    "    try:\n",
    "        n = int(input(\"Enter the number of Fibonacci numbers to generate: \"))\n",
    "        if n <= 0:\n",
    "            print(\"Please enter a positive integer.\")\n",
    "            return\n",
    "\n",
    "        fibonacci_numbers = generate_fibonacci(n)\n",
    "        print(f\"Fibonacci sequence up to term {n}: {fibonacci_numbers}\")\n",
    "\n",
    "    except ValueError:\n",
    "        print(\"Invalid input. Please enter a positive integer.\")\n",
    "\n",
    "if __name__ == \"__main__\":\n",
    "    main()\n"
   ]
  },
  {
   "cell_type": "code",
   "execution_count": null,
   "id": "10101dc7-1572-4c13-93a2-f9a2625cff50",
   "metadata": {},
   "outputs": [],
   "source": [
    "#37. Develop a program that calculates the nth term of the Fibonacci sequence using memoization.\n",
    "def fibonacci_with_memoization(n, memo={}):\n",
    "    if n in memo:\n",
    "        return memo[n]\n",
    "    if n <= 1:\n",
    "        return n\n",
    "    else:\n",
    "        result = fibonacci_with_memoization(n - 1, memo) + fibonacci_with_memoization(n - 2, memo)\n",
    "        memo[n] = result\n",
    "        return result\n",
    "\n",
    "def main():\n",
    "    try:\n",
    "        n = int(input(\"Enter the value of n for the nth Fibonacci term: \"))\n",
    "        if n < 0:\n",
    "            print(\"Please enter a non-negative integer.\")\n",
    "            return\n",
    "\n",
    "        fibonacci_term = fibonacci_with_memoization(n)\n",
    "        print(f\"The {n}th Fibonacci term is: {fibonacci_term}\")\n",
    "\n",
    "    except ValueError:\n",
    "        print(\"Invalid input. Please enter a non-negative integer.\")\n",
    "\n",
    "if __name__ == \"__main__\":\n",
    "    main()\n"
   ]
  },
  {
   "cell_type": "code",
   "execution_count": null,
   "id": "ffa22826-f753-4283-a10c-9b3cfa3e0d42",
   "metadata": {},
   "outputs": [],
   "source": [
    "#38. Create a program that generates a calendar for a given month and year using conditional statements.\n",
    "import calendar\n",
    "\n",
    "def generate_calendar(year, month):\n",
    "    try:\n",
    "        # Create a TextCalendar instance\n",
    "        cal = calendar.TextCalendar()\n",
    "\n",
    "        # Display the calendar for the specified month and year\n",
    "        print(cal.formatmonth(year, month))\n",
    "        \n",
    "    except ValueError:\n",
    "        print(\"Invalid input. Please enter valid year and month.\")\n",
    "\n",
    "def main():\n",
    "    try:\n",
    "        # Get input from the user\n",
    "        year = int(input(\"Enter the year: \"))\n",
    "        month = int(input(\"Enter the month (1-12): \"))\n",
    "\n",
    "        # Check if the month is in the valid range\n",
    "        if 1 <= month <= 12:\n",
    "            generate_calendar(year, month)\n",
    "        else:\n",
    "            print(\"Invalid month. Please enter a month in the range 1-12.\")\n",
    "            \n",
    "    except ValueError:\n",
    "        print(\"Invalid input. Please enter valid year and month.\")\n",
    "\n",
    "if __name__ == \"__main__\":\n",
    "    main()\n"
   ]
  },
  {
   "cell_type": "code",
   "execution_count": null,
   "id": "149fe248-067e-4bc9-b1cc-c51c236f8971",
   "metadata": {},
   "outputs": [],
   "source": [
    "#39. Build a program that simulates a basic text-based blackjack game against the computer.\n",
    "import random\n",
    "\n",
    "def deal_card():\n",
    "    cards = [2, 3, 4, 5, 6, 7, 8, 9, 10, 10, 10, 10, 11]\n",
    "    return random.choice(cards)\n",
    "\n",
    "def calculate_score(cards):\n",
    "    if sum(cards) == 21 and len(cards) == 2:\n",
    "        return 0  # Blackjack\n",
    "\n",
    "    if 11 in cards and sum(cards) > 21:\n",
    "        cards.remove(11)\n",
    "        cards.append(1)\n",
    "\n",
    "    return sum(cards)\n",
    "\n",
    "def compare(user_score, computer_score):\n",
    "    if user_score == computer_score:\n",
    "        return \"It's a draw!\"\n",
    "    elif computer_score == 0:\n",
    "        return \"Computer has Blackjack. You lose!\"\n",
    "    elif user_score == 0:\n",
    "        return \"You have Blackjack! You win!\"\n",
    "    elif user_score > 21:\n",
    "        return \"You went over 21. You lose!\"\n",
    "    elif computer_score > 21:\n",
    "        return \"Computer went over 21. You win!\"\n",
    "    elif user_score > computer_score:\n",
    "        return \"You win!\"\n",
    "    else:\n",
    "        return \"You lose!\"\n",
    "\n",
    "def play_game():\n",
    "    user_cards = []\n",
    "    computer_cards = []\n",
    "    game_over = False\n",
    "\n",
    "    for _ in range(2):\n",
    "        user_cards.append(deal_card())\n",
    "        computer_cards.append(deal_card())\n",
    "\n",
    "    while not game_over:\n",
    "        user_score = calculate_score(user_cards)\n",
    "        computer_score = calculate_score(computer_cards)\n",
    "\n",
    "        print(f\"Your cards: {user_cards}, current score: {user_score}\")\n",
    "        print(f\"Computer's first card: {computer_cards[0]}\")\n",
    "\n",
    "        if user_score == 0 or computer_score == 0 or user_score > 21:\n",
    "            game_over = True\n",
    "        else:\n",
    "            should_continue = input(\"Type 'y' to get another card, or 'n' to pass: \")\n",
    "            if should_continue.lower() == 'y':\n",
    "                user_cards.append(deal_card())\n",
    "            else:\n",
    "                game_over = True\n",
    "\n",
    "    while computer_score != 0 and computer_score < 17:\n",
    "        computer_cards.append(deal_card())\n",
    "        computer_score = calculate_score(computer_cards)\n",
    "\n",
    "    print(f\"Your final hand: {user_cards}, final score: {user_score}\")\n",
    "    print(f\"Computer's final hand: {computer_cards}, final score: {computer_score}\")\n",
    "\n",
    "    result = compare(user_score, computer_score)\n",
    "    print(result)\n",
    "\n",
    "# Run the game\n",
    "if __name__ == \"__main__\":\n",
    "    play_game()\n"
   ]
  },
  {
   "cell_type": "code",
   "execution_count": null,
   "id": "134a87c7-3f76-4b86-979b-9d456cf403a3",
   "metadata": {},
   "outputs": [],
   "source": [
    "#40. Write a program that generates the prime factors of a given number using trial division.\n",
    "def generate_prime_factors(number):\n",
    "    prime_factors = []\n",
    "    divisor = 2\n",
    "\n",
    "    while divisor <= number:\n",
    "        if number % divisor == 0:\n",
    "            prime_factors.append(divisor)\n",
    "            number = number // divisor\n",
    "        else:\n",
    "            divisor += 1\n",
    "\n",
    "    return prime_factors\n",
    "\n",
    "def main():\n",
    "    try:\n",
    "        # Get input from the user\n",
    "        number = int(input(\"Enter a number to find its prime factors: \"))\n",
    "        \n",
    "        if number <= 1:\n",
    "            print(\"Please enter a positive integer greater than 1.\")\n",
    "            return\n",
    "\n",
    "        # Generate and display prime factors\n",
    "        factors = generate_prime_factors(number)\n",
    "        print(f\"The prime factors of {number} are: {factors}\")\n",
    "\n",
    "    except ValueError:\n",
    "        print(\"Invalid input. Please enter a positive integer.\")\n",
    "\n",
    "if __name__ == \"__main__\":\n",
    "    main()\n"
   ]
  }
 ],
 "metadata": {
  "kernelspec": {
   "display_name": "Python 3 (ipykernel)",
   "language": "python",
   "name": "python3"
  },
  "language_info": {
   "codemirror_mode": {
    "name": "ipython",
    "version": 3
   },
   "file_extension": ".py",
   "mimetype": "text/x-python",
   "name": "python",
   "nbconvert_exporter": "python",
   "pygments_lexer": "ipython3",
   "version": "3.10.8"
  }
 },
 "nbformat": 4,
 "nbformat_minor": 5
}
